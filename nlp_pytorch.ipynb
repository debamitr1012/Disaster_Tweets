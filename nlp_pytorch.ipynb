{
  "cells": [
    {
      "cell_type": "code",
      "execution_count": 1,
      "id": "dfb65daa",
      "metadata": {
        "_cell_guid": "b1076dfc-b9ad-4769-8c92-a6c4dae69d19",
        "_uuid": "8f2839f25d086af736a60e9eeb907d3b93b6e0e5",
        "execution": {
          "iopub.execute_input": "2022-05-14T06:09:25.569687Z",
          "iopub.status.busy": "2022-05-14T06:09:25.568852Z",
          "iopub.status.idle": "2022-05-14T06:09:25.587304Z",
          "shell.execute_reply": "2022-05-14T06:09:25.586280Z"
        },
        "papermill": {
          "duration": 0.065383,
          "end_time": "2022-05-14T06:09:25.590176",
          "exception": false,
          "start_time": "2022-05-14T06:09:25.524793",
          "status": "completed"
        },
        "tags": [],
        "id": "dfb65daa"
      },
      "outputs": [],
      "source": [
        "import numpy as np \n",
        "import pandas as pd \n",
        "import os\n",
        "for dirname, _, filenames in os.walk('/kaggle/input'):\n",
        "    for filename in filenames:\n",
        "        print(os.path.join(dirname, filename))"
      ]
    },
    {
      "cell_type": "code",
      "source": [
        "from google.colab import drive\n",
        "drive.mount('/content/drive')"
      ],
      "metadata": {
        "colab": {
          "base_uri": "https://localhost:8080/"
        },
        "id": "_cmJGj0XjiuZ",
        "outputId": "4b54b5d9-2d62-4d43-8df1-3001a54f7f4d"
      },
      "id": "_cmJGj0XjiuZ",
      "execution_count": 3,
      "outputs": [
        {
          "output_type": "stream",
          "name": "stdout",
          "text": [
            "Mounted at /content/drive\n"
          ]
        }
      ]
    },
    {
      "cell_type": "code",
      "execution_count": 6,
      "id": "4d422356",
      "metadata": {
        "execution": {
          "iopub.execute_input": "2022-05-14T06:09:25.675608Z",
          "iopub.status.busy": "2022-05-14T06:09:25.675164Z",
          "iopub.status.idle": "2022-05-14T06:09:30.780171Z",
          "shell.execute_reply": "2022-05-14T06:09:30.779179Z"
        },
        "papermill": {
          "duration": 5.151772,
          "end_time": "2022-05-14T06:09:30.783083",
          "exception": false,
          "start_time": "2022-05-14T06:09:25.631311",
          "status": "completed"
        },
        "tags": [],
        "id": "4d422356"
      },
      "outputs": [],
      "source": [
        "import torch\n",
        "import torchvision\n",
        "import numpy as np\n",
        "import matplotlib.pyplot as plt\n",
        "import pandas as pd\n",
        "from torch.nn import *\n",
        "from torch.optim import *\n",
        "from torchvision.models import *\n",
        "from sklearn.model_selection import *\n",
        "from sklearn.metrics import *\n",
        "import wandb\n",
        "import nltk\n",
        "from nltk.stem.porter import *\n",
        "PROJECT_NAME = \"Natural-Language-Processing-with-Disaster-Tweets\"\n",
        "np.random.seed(55)\n",
        "stemmer = PorterStemmer()\n",
        "device = 'cpu'"
      ]
    },
    {
      "cell_type": "code",
      "execution_count": 7,
      "id": "d87e2937",
      "metadata": {
        "execution": {
          "iopub.execute_input": "2022-05-14T06:09:30.884235Z",
          "iopub.status.busy": "2022-05-14T06:09:30.882548Z",
          "iopub.status.idle": "2022-05-14T06:09:30.888812Z",
          "shell.execute_reply": "2022-05-14T06:09:30.888126Z"
        },
        "papermill": {
          "duration": 0.06028,
          "end_time": "2022-05-14T06:09:30.891190",
          "exception": false,
          "start_time": "2022-05-14T06:09:30.830910",
          "status": "completed"
        },
        "tags": [],
        "id": "d87e2937"
      },
      "outputs": [],
      "source": [
        "def tokenize(sentence):\n",
        "    return nltk.word_tokenize(sentence.lower())"
      ]
    },
    {
      "cell_type": "code",
      "source": [
        "import nltk\n",
        "nltk.download('punkt')"
      ],
      "metadata": {
        "colab": {
          "base_uri": "https://localhost:8080/"
        },
        "id": "lphDP-2ckiVM",
        "outputId": "3656d0ec-c580-43f4-9b45-980ae8956a54"
      },
      "id": "lphDP-2ckiVM",
      "execution_count": 9,
      "outputs": [
        {
          "output_type": "stream",
          "name": "stderr",
          "text": [
            "[nltk_data] Downloading package punkt to /root/nltk_data...\n",
            "[nltk_data]   Unzipping tokenizers/punkt.zip.\n"
          ]
        },
        {
          "output_type": "execute_result",
          "data": {
            "text/plain": [
              "True"
            ]
          },
          "metadata": {},
          "execution_count": 9
        }
      ]
    },
    {
      "cell_type": "code",
      "execution_count": 10,
      "id": "9a21fca1",
      "metadata": {
        "execution": {
          "iopub.execute_input": "2022-05-14T06:09:30.977920Z",
          "iopub.status.busy": "2022-05-14T06:09:30.977096Z",
          "iopub.status.idle": "2022-05-14T06:09:31.008253Z",
          "shell.execute_reply": "2022-05-14T06:09:31.007417Z"
        },
        "papermill": {
          "duration": 0.076855,
          "end_time": "2022-05-14T06:09:31.010733",
          "exception": false,
          "start_time": "2022-05-14T06:09:30.933878",
          "status": "completed"
        },
        "tags": [],
        "colab": {
          "base_uri": "https://localhost:8080/"
        },
        "id": "9a21fca1",
        "outputId": "862aad7d-56bd-4c2d-f156-b7f6b09afe61"
      },
      "outputs": [
        {
          "output_type": "execute_result",
          "data": {
            "text/plain": [
              "['testing', 'this', 'tokenize', 'function']"
            ]
          },
          "metadata": {},
          "execution_count": 10
        }
      ],
      "source": [
        "tokenize(\"Testing this tokenize function\")"
      ]
    },
    {
      "cell_type": "code",
      "execution_count": 11,
      "id": "527c217b",
      "metadata": {
        "execution": {
          "iopub.execute_input": "2022-05-14T06:09:31.096268Z",
          "iopub.status.busy": "2022-05-14T06:09:31.095463Z",
          "iopub.status.idle": "2022-05-14T06:09:31.100436Z",
          "shell.execute_reply": "2022-05-14T06:09:31.099599Z"
        },
        "papermill": {
          "duration": 0.05096,
          "end_time": "2022-05-14T06:09:31.102647",
          "exception": false,
          "start_time": "2022-05-14T06:09:31.051687",
          "status": "completed"
        },
        "tags": [],
        "id": "527c217b"
      },
      "outputs": [],
      "source": [
        "def stem(word):\n",
        "    return stemmer.stem(word.lower())"
      ]
    },
    {
      "cell_type": "code",
      "execution_count": 12,
      "id": "82573a1a",
      "metadata": {
        "execution": {
          "iopub.execute_input": "2022-05-14T06:09:31.187513Z",
          "iopub.status.busy": "2022-05-14T06:09:31.186723Z",
          "iopub.status.idle": "2022-05-14T06:09:31.194379Z",
          "shell.execute_reply": "2022-05-14T06:09:31.193554Z"
        },
        "papermill": {
          "duration": 0.054051,
          "end_time": "2022-05-14T06:09:31.197455",
          "exception": false,
          "start_time": "2022-05-14T06:09:31.143404",
          "status": "completed"
        },
        "tags": [],
        "colab": {
          "base_uri": "https://localhost:8080/",
          "height": 35
        },
        "id": "82573a1a",
        "outputId": "380b764b-9c1b-4752-db8e-3a0f1ede7afa"
      },
      "outputs": [
        {
          "output_type": "execute_result",
          "data": {
            "text/plain": [
              "'organ'"
            ],
            "application/vnd.google.colaboratory.intrinsic+json": {
              "type": "string"
            }
          },
          "metadata": {},
          "execution_count": 12
        }
      ],
      "source": [
        "stem('organic')"
      ]
    },
    {
      "cell_type": "code",
      "execution_count": 13,
      "id": "61954451",
      "metadata": {
        "execution": {
          "iopub.execute_input": "2022-05-14T06:09:31.285273Z",
          "iopub.status.busy": "2022-05-14T06:09:31.284569Z",
          "iopub.status.idle": "2022-05-14T06:09:31.292799Z",
          "shell.execute_reply": "2022-05-14T06:09:31.291647Z"
        },
        "papermill": {
          "duration": 0.056609,
          "end_time": "2022-05-14T06:09:31.295186",
          "exception": false,
          "start_time": "2022-05-14T06:09:31.238577",
          "status": "completed"
        },
        "tags": [],
        "id": "61954451"
      },
      "outputs": [],
      "source": [
        "def words_to_int(words,all_words):\n",
        "    new_words = []\n",
        "    for word in words:\n",
        "        new_words.append(stem(word))\n",
        "    list_of_os = np.zeros(len(all_words))\n",
        "    for i in range(len(all_words)):\n",
        "        if all_words[i] in new_words:\n",
        "            list_of_os[i] = 1.0\n",
        "    return list_of_os"
      ]
    },
    {
      "cell_type": "code",
      "execution_count": 14,
      "id": "0a2ef099",
      "metadata": {
        "execution": {
          "iopub.execute_input": "2022-05-14T06:09:31.379180Z",
          "iopub.status.busy": "2022-05-14T06:09:31.378452Z",
          "iopub.status.idle": "2022-05-14T06:09:31.386391Z",
          "shell.execute_reply": "2022-05-14T06:09:31.385596Z"
        },
        "papermill": {
          "duration": 0.051953,
          "end_time": "2022-05-14T06:09:31.388579",
          "exception": false,
          "start_time": "2022-05-14T06:09:31.336626",
          "status": "completed"
        },
        "tags": [],
        "colab": {
          "base_uri": "https://localhost:8080/"
        },
        "id": "0a2ef099",
        "outputId": "15c1df95-4786-44d8-c193-8ad83301ed0b"
      },
      "outputs": [
        {
          "output_type": "execute_result",
          "data": {
            "text/plain": [
              "array([0., 0., 1., 0.])"
            ]
          },
          "metadata": {},
          "execution_count": 14
        }
      ],
      "source": [
        "words_to_int([\"test\"],[\"testing\",\"I\",\"test\",\"grswgre\"])"
      ]
    },
    {
      "cell_type": "code",
      "execution_count": 15,
      "id": "0f57bea9",
      "metadata": {
        "execution": {
          "iopub.execute_input": "2022-05-14T06:09:31.475833Z",
          "iopub.status.busy": "2022-05-14T06:09:31.475292Z",
          "iopub.status.idle": "2022-05-14T06:09:31.508998Z",
          "shell.execute_reply": "2022-05-14T06:09:31.508252Z"
        },
        "papermill": {
          "duration": 0.079054,
          "end_time": "2022-05-14T06:09:31.511393",
          "exception": false,
          "start_time": "2022-05-14T06:09:31.432339",
          "status": "completed"
        },
        "tags": [],
        "id": "0f57bea9"
      },
      "outputs": [],
      "source": [
        "test = pd.read_csv('/content/drive/MyDrive/test.csv')"
      ]
    },
    {
      "cell_type": "code",
      "execution_count": 16,
      "id": "ed5e9305",
      "metadata": {
        "execution": {
          "iopub.execute_input": "2022-05-14T06:09:31.599145Z",
          "iopub.status.busy": "2022-05-14T06:09:31.598565Z",
          "iopub.status.idle": "2022-05-14T06:09:31.651827Z",
          "shell.execute_reply": "2022-05-14T06:09:31.650693Z"
        },
        "papermill": {
          "duration": 0.099831,
          "end_time": "2022-05-14T06:09:31.654445",
          "exception": false,
          "start_time": "2022-05-14T06:09:31.554614",
          "status": "completed"
        },
        "tags": [],
        "id": "ed5e9305"
      },
      "outputs": [],
      "source": [
        "data = pd.read_csv('/content/drive/MyDrive/train.csv')\n",
        "data = data.sample(frac=1)\n",
        "data = data.sample(frac=1)\n",
        "data = data.sample(frac=1)"
      ]
    },
    {
      "cell_type": "code",
      "execution_count": 17,
      "id": "59c78de0",
      "metadata": {
        "execution": {
          "iopub.execute_input": "2022-05-14T06:09:31.739581Z",
          "iopub.status.busy": "2022-05-14T06:09:31.739288Z",
          "iopub.status.idle": "2022-05-14T06:09:31.748697Z",
          "shell.execute_reply": "2022-05-14T06:09:31.747726Z"
        },
        "papermill": {
          "duration": 0.054098,
          "end_time": "2022-05-14T06:09:31.750994",
          "exception": false,
          "start_time": "2022-05-14T06:09:31.696896",
          "status": "completed"
        },
        "tags": [],
        "id": "59c78de0"
      },
      "outputs": [],
      "source": [
        "X = data['text']\n",
        "y = data['target']"
      ]
    },
    {
      "cell_type": "code",
      "execution_count": 18,
      "id": "972b3d2a",
      "metadata": {
        "execution": {
          "iopub.execute_input": "2022-05-14T06:09:31.834469Z",
          "iopub.status.busy": "2022-05-14T06:09:31.834139Z",
          "iopub.status.idle": "2022-05-14T06:09:31.838438Z",
          "shell.execute_reply": "2022-05-14T06:09:31.837502Z"
        },
        "papermill": {
          "duration": 0.049304,
          "end_time": "2022-05-14T06:09:31.840838",
          "exception": false,
          "start_time": "2022-05-14T06:09:31.791534",
          "status": "completed"
        },
        "tags": [],
        "id": "972b3d2a"
      },
      "outputs": [],
      "source": [
        "all_words = []\n",
        "tags = []"
      ]
    },
    {
      "cell_type": "code",
      "execution_count": 19,
      "id": "b62591e9",
      "metadata": {
        "execution": {
          "iopub.execute_input": "2022-05-14T06:09:31.926574Z",
          "iopub.status.busy": "2022-05-14T06:09:31.925511Z",
          "iopub.status.idle": "2022-05-14T06:09:31.930261Z",
          "shell.execute_reply": "2022-05-14T06:09:31.929310Z"
        },
        "papermill": {
          "duration": 0.049814,
          "end_time": "2022-05-14T06:09:31.932679",
          "exception": false,
          "start_time": "2022-05-14T06:09:31.882865",
          "status": "completed"
        },
        "tags": [],
        "id": "b62591e9"
      },
      "outputs": [],
      "source": [
        "from tqdm import tqdm"
      ]
    },
    {
      "cell_type": "code",
      "execution_count": 20,
      "id": "ddb63b97",
      "metadata": {
        "execution": {
          "iopub.execute_input": "2022-05-14T06:09:32.015668Z",
          "iopub.status.busy": "2022-05-14T06:09:32.015097Z",
          "iopub.status.idle": "2022-05-14T06:09:38.092801Z",
          "shell.execute_reply": "2022-05-14T06:09:38.091877Z"
        },
        "papermill": {
          "duration": 6.12222,
          "end_time": "2022-05-14T06:09:38.095541",
          "exception": false,
          "start_time": "2022-05-14T06:09:31.973321",
          "status": "completed"
        },
        "tags": [],
        "colab": {
          "base_uri": "https://localhost:8080/"
        },
        "id": "ddb63b97",
        "outputId": "1bae4c13-300f-4b12-b7e4-372392df5987"
      },
      "outputs": [
        {
          "output_type": "stream",
          "name": "stderr",
          "text": [
            "7613it [00:04, 1681.84it/s]\n"
          ]
        }
      ],
      "source": [
        "for x_iter,y_iter in tqdm(zip(X,y)):\n",
        "    x_iter = tokenize(x_iter)\n",
        "    new_x_iter = []\n",
        "    for x_iter_i in x_iter:\n",
        "        new_x_iter.append(stem(x_iter_i))\n",
        "    all_words.extend(new_x_iter)\n",
        "    tags.append(y_iter)"
      ]
    },
    {
      "cell_type": "code",
      "execution_count": 21,
      "id": "8d9c96c3",
      "metadata": {
        "execution": {
          "iopub.execute_input": "2022-05-14T06:09:38.228782Z",
          "iopub.status.busy": "2022-05-14T06:09:38.228458Z",
          "iopub.status.idle": "2022-05-14T06:09:38.266055Z",
          "shell.execute_reply": "2022-05-14T06:09:38.264825Z"
        },
        "papermill": {
          "duration": 0.108075,
          "end_time": "2022-05-14T06:09:38.268715",
          "exception": false,
          "start_time": "2022-05-14T06:09:38.160640",
          "status": "completed"
        },
        "tags": [],
        "id": "8d9c96c3"
      },
      "outputs": [],
      "source": [
        "np.random.shuffle(all_words)\n",
        "np.random.shuffle(all_words)"
      ]
    },
    {
      "cell_type": "code",
      "execution_count": 22,
      "id": "00da25b9",
      "metadata": {
        "execution": {
          "iopub.execute_input": "2022-05-14T06:09:38.400567Z",
          "iopub.status.busy": "2022-05-14T06:09:38.400270Z",
          "iopub.status.idle": "2022-05-14T06:09:38.450103Z",
          "shell.execute_reply": "2022-05-14T06:09:38.449010Z"
        },
        "papermill": {
          "duration": 0.116741,
          "end_time": "2022-05-14T06:09:38.452476",
          "exception": false,
          "start_time": "2022-05-14T06:09:38.335735",
          "status": "completed"
        },
        "tags": [],
        "id": "00da25b9"
      },
      "outputs": [],
      "source": [
        "all_words = sorted(set(all_words))"
      ]
    },
    {
      "cell_type": "code",
      "execution_count": 23,
      "id": "be36ecca",
      "metadata": {
        "execution": {
          "iopub.execute_input": "2022-05-14T06:09:38.587274Z",
          "iopub.status.busy": "2022-05-14T06:09:38.586950Z",
          "iopub.status.idle": "2022-05-14T06:09:38.591584Z",
          "shell.execute_reply": "2022-05-14T06:09:38.590354Z"
        },
        "papermill": {
          "duration": 0.078775,
          "end_time": "2022-05-14T06:09:38.595286",
          "exception": false,
          "start_time": "2022-05-14T06:09:38.516511",
          "status": "completed"
        },
        "tags": [],
        "id": "be36ecca"
      },
      "outputs": [],
      "source": [
        "tags = sorted(set(tags))"
      ]
    },
    {
      "cell_type": "code",
      "execution_count": 24,
      "id": "ac3d65f5",
      "metadata": {
        "execution": {
          "iopub.execute_input": "2022-05-14T06:09:38.727194Z",
          "iopub.status.busy": "2022-05-14T06:09:38.726875Z",
          "iopub.status.idle": "2022-05-14T06:09:38.730923Z",
          "shell.execute_reply": "2022-05-14T06:09:38.729789Z"
        },
        "papermill": {
          "duration": 0.074476,
          "end_time": "2022-05-14T06:09:38.733049",
          "exception": false,
          "start_time": "2022-05-14T06:09:38.658573",
          "status": "completed"
        },
        "tags": [],
        "id": "ac3d65f5"
      },
      "outputs": [],
      "source": [
        "new_X = []\n",
        "new_y = []"
      ]
    },
    {
      "cell_type": "code",
      "execution_count": 25,
      "id": "232a0de8",
      "metadata": {
        "execution": {
          "iopub.execute_input": "2022-05-14T06:09:38.862535Z",
          "iopub.status.busy": "2022-05-14T06:09:38.862240Z",
          "iopub.status.idle": "2022-05-14T06:12:49.446771Z",
          "shell.execute_reply": "2022-05-14T06:12:49.445358Z"
        },
        "papermill": {
          "duration": 190.652965,
          "end_time": "2022-05-14T06:12:49.450353",
          "exception": false,
          "start_time": "2022-05-14T06:09:38.797388",
          "status": "completed"
        },
        "tags": [],
        "colab": {
          "base_uri": "https://localhost:8080/"
        },
        "id": "232a0de8",
        "outputId": "c7f7f1e7-5de5-49bb-e641-437e4a0913b3"
      },
      "outputs": [
        {
          "output_type": "stream",
          "name": "stderr",
          "text": [
            "7613it [04:24, 28.83it/s]\n"
          ]
        }
      ],
      "source": [
        "for X_iter,y_iter in tqdm(zip(X,y)):\n",
        "    new_X.append(words_to_int(X_iter,all_words))\n",
        "    new_y.append(tags.index(y_iter))"
      ]
    },
    {
      "cell_type": "code",
      "execution_count": 26,
      "id": "52eb3e88",
      "metadata": {
        "execution": {
          "iopub.execute_input": "2022-05-14T06:12:50.770986Z",
          "iopub.status.busy": "2022-05-14T06:12:50.770703Z",
          "iopub.status.idle": "2022-05-14T06:12:51.201354Z",
          "shell.execute_reply": "2022-05-14T06:12:51.200393Z"
        },
        "papermill": {
          "duration": 1.091982,
          "end_time": "2022-05-14T06:12:51.204262",
          "exception": false,
          "start_time": "2022-05-14T06:12:50.112280",
          "status": "completed"
        },
        "tags": [],
        "id": "52eb3e88"
      },
      "outputs": [],
      "source": [
        "X = np.array(new_X)\n",
        "y = np.array(new_y)"
      ]
    },
    {
      "cell_type": "code",
      "execution_count": 27,
      "id": "daa8adee",
      "metadata": {
        "execution": {
          "iopub.execute_input": "2022-05-14T06:12:52.522441Z",
          "iopub.status.busy": "2022-05-14T06:12:52.522162Z",
          "iopub.status.idle": "2022-05-14T06:12:52.965992Z",
          "shell.execute_reply": "2022-05-14T06:12:52.965045Z"
        },
        "papermill": {
          "duration": 1.107432,
          "end_time": "2022-05-14T06:12:52.968741",
          "exception": false,
          "start_time": "2022-05-14T06:12:51.861309",
          "status": "completed"
        },
        "tags": [],
        "id": "daa8adee"
      },
      "outputs": [],
      "source": [
        "X_train,X_test,y_train,y_test = train_test_split(X,y,test_size=0.0625,shuffle=True)"
      ]
    },
    {
      "cell_type": "code",
      "execution_count": 28,
      "id": "e54b19eb",
      "metadata": {
        "execution": {
          "iopub.execute_input": "2022-05-14T06:12:54.291803Z",
          "iopub.status.busy": "2022-05-14T06:12:54.290978Z",
          "iopub.status.idle": "2022-05-14T06:12:54.297530Z",
          "shell.execute_reply": "2022-05-14T06:12:54.296135Z"
        },
        "papermill": {
          "duration": 0.653952,
          "end_time": "2022-05-14T06:12:54.299851",
          "exception": false,
          "start_time": "2022-05-14T06:12:53.645899",
          "status": "completed"
        },
        "tags": [],
        "id": "e54b19eb"
      },
      "outputs": [],
      "source": [
        "X_train = torch.from_numpy(X_train).to(device)\n",
        "y_train = torch.from_numpy(y_train).to(device)\n",
        "X_test = torch.from_numpy(X_test).to(device)\n",
        "y_test = torch.from_numpy(y_test).to(device)"
      ]
    },
    {
      "cell_type": "code",
      "execution_count": 29,
      "id": "3ef76949",
      "metadata": {
        "execution": {
          "iopub.execute_input": "2022-05-14T06:12:55.609726Z",
          "iopub.status.busy": "2022-05-14T06:12:55.609429Z",
          "iopub.status.idle": "2022-05-14T06:12:55.622663Z",
          "shell.execute_reply": "2022-05-14T06:12:55.621720Z"
        },
        "papermill": {
          "duration": 0.670706,
          "end_time": "2022-05-14T06:12:55.624951",
          "exception": false,
          "start_time": "2022-05-14T06:12:54.954245",
          "status": "completed"
        },
        "tags": [],
        "id": "3ef76949"
      },
      "outputs": [],
      "source": [
        "class Model(Module):\n",
        "    def __init__(self,activation=ReLU,neurons=512):\n",
        "        super().__init__()\n",
        "        self.activation = activation()\n",
        "        self.output_activation = Sigmoid()\n",
        "        self.linear1 = Linear(len(all_words),neurons)\n",
        "        self.linear2 = Linear(neurons,neurons*2)\n",
        "        self.linearbn = BatchNorm1d(neurons*2)\n",
        "        self.linear3 = Linear(neurons*2,neurons*2)\n",
        "        self.linear4 = Linear(neurons*2,neurons*3)\n",
        "        self.linear5 = Linear(neurons*3,neurons*2)\n",
        "        self.output = Linear(neurons*2,1)\n",
        "    def forward(self,X):\n",
        "        preds = self.activation(self.linear1(X))\n",
        "        preds = self.activation(self.linear2(preds))\n",
        "        preds = self.activation(self.linear3(preds))\n",
        "        preds = self.activation(self.linearbn(preds))\n",
        "        preds = self.activation(self.linear3(preds))\n",
        "        preds = self.activation(self.linear4(preds))\n",
        "        preds = self.activation(self.linear5(preds))\n",
        "        preds = self.output_activation(self.output(preds))\n",
        "        return preds"
      ]
    },
    {
      "cell_type": "code",
      "execution_count": 30,
      "id": "4e5616d9",
      "metadata": {
        "execution": {
          "iopub.execute_input": "2022-05-14T06:12:56.989289Z",
          "iopub.status.busy": "2022-05-14T06:12:56.988984Z",
          "iopub.status.idle": "2022-05-14T06:12:57.060235Z",
          "shell.execute_reply": "2022-05-14T06:12:57.059308Z"
        },
        "papermill": {
          "duration": 0.757637,
          "end_time": "2022-05-14T06:12:57.062658",
          "exception": false,
          "start_time": "2022-05-14T06:12:56.305021",
          "status": "completed"
        },
        "tags": [],
        "id": "4e5616d9"
      },
      "outputs": [],
      "source": [
        "model = Model(activation=LeakyReLU,neurons=256).to(device)\n",
        "criterion = MSELoss()\n",
        "optimizer = Adam(model.parameters(),lr=0.001)\n",
        "epochs = 100\n",
        "batch_size = 32"
      ]
    },
    {
      "cell_type": "code",
      "execution_count": 31,
      "id": "8182a7c4",
      "metadata": {
        "execution": {
          "iopub.execute_input": "2022-05-14T06:12:58.403151Z",
          "iopub.status.busy": "2022-05-14T06:12:58.402828Z",
          "iopub.status.idle": "2022-05-14T06:12:58.409847Z",
          "shell.execute_reply": "2022-05-14T06:12:58.408607Z"
        },
        "papermill": {
          "duration": 0.681705,
          "end_time": "2022-05-14T06:12:58.411911",
          "exception": false,
          "start_time": "2022-05-14T06:12:57.730206",
          "status": "completed"
        },
        "tags": [],
        "id": "8182a7c4"
      },
      "outputs": [],
      "source": [
        "def accuracy(model,X,y):\n",
        "    correct = 0\n",
        "    total = 0\n",
        "    preds = model(X.float())\n",
        "    for pred,y_batch in zip(preds,y):\n",
        "        pred = int(torch.round(pred))\n",
        "        y_batch = int(y_batch)\n",
        "        if pred == y_batch:\n",
        "            correct += 1\n",
        "        total += 1\n",
        "    acc = round(correct/total,3)*100\n",
        "    return acc"
      ]
    },
    {
      "cell_type": "code",
      "execution_count": 32,
      "id": "ccfabce5",
      "metadata": {
        "execution": {
          "iopub.execute_input": "2022-05-14T06:12:59.805912Z",
          "iopub.status.busy": "2022-05-14T06:12:59.805636Z",
          "iopub.status.idle": "2022-05-14T06:12:59.810998Z",
          "shell.execute_reply": "2022-05-14T06:12:59.809904Z"
        },
        "papermill": {
          "duration": 0.739903,
          "end_time": "2022-05-14T06:12:59.813367",
          "exception": false,
          "start_time": "2022-05-14T06:12:59.073464",
          "status": "completed"
        },
        "tags": [],
        "id": "ccfabce5"
      },
      "outputs": [],
      "source": [
        "def g_loss(model,X,y):\n",
        "    preds = model(X.float())\n",
        "    loss = criterion(preds.view(-1),y.float().view(-1))\n",
        "    return loss.item()"
      ]
    },
    {
      "cell_type": "code",
      "execution_count": 33,
      "id": "3ff89f09",
      "metadata": {
        "execution": {
          "iopub.execute_input": "2022-05-14T06:13:01.132580Z",
          "iopub.status.busy": "2022-05-14T06:13:01.132303Z",
          "iopub.status.idle": "2022-05-14T06:36:55.157942Z",
          "shell.execute_reply": "2022-05-14T06:36:55.157240Z"
        },
        "papermill": {
          "duration": 1434.686575,
          "end_time": "2022-05-14T06:36:55.161737",
          "exception": false,
          "start_time": "2022-05-14T06:13:00.475162",
          "status": "completed"
        },
        "tags": [],
        "colab": {
          "base_uri": "https://localhost:8080/"
        },
        "id": "3ff89f09",
        "outputId": "45b97924-9645-4ddb-d81b-bf205906a5df"
      },
      "outputs": [
        {
          "output_type": "stream",
          "name": "stderr",
          "text": [
            "  1%|          | 1/100 [00:28<47:11, 28.60s/it]"
          ]
        },
        {
          "output_type": "stream",
          "name": "stdout",
          "text": [
            "Val Accuracy = 66.8 | Accuracy = 66.4 | Val Loss = 0.22018006443977356 | Loss = 0.2166014164686203\n"
          ]
        },
        {
          "output_type": "stream",
          "name": "stderr",
          "text": [
            "\r  2%|▏         | 2/100 [01:01<51:09, 31.32s/it]"
          ]
        },
        {
          "output_type": "stream",
          "name": "stdout",
          "text": [
            "Val Accuracy = 64.5 | Accuracy = 65.2 | Val Loss = 0.21716555953025818 | Loss = 0.21677939593791962\n"
          ]
        },
        {
          "output_type": "stream",
          "name": "stderr",
          "text": [
            "\r  3%|▎         | 3/100 [01:32<50:23, 31.17s/it]"
          ]
        },
        {
          "output_type": "stream",
          "name": "stdout",
          "text": [
            "Val Accuracy = 66.0 | Accuracy = 67.0 | Val Loss = 0.2145855724811554 | Loss = 0.21230091154575348\n"
          ]
        },
        {
          "output_type": "stream",
          "name": "stderr",
          "text": [
            "\r  4%|▍         | 4/100 [02:03<49:51, 31.16s/it]"
          ]
        },
        {
          "output_type": "stream",
          "name": "stdout",
          "text": [
            "Val Accuracy = 64.5 | Accuracy = 66.0 | Val Loss = 0.2156919687986374 | Loss = 0.2142496258020401\n"
          ]
        },
        {
          "output_type": "stream",
          "name": "stderr",
          "text": [
            "\r  5%|▌         | 5/100 [02:35<49:19, 31.15s/it]"
          ]
        },
        {
          "output_type": "stream",
          "name": "stdout",
          "text": [
            "Val Accuracy = 64.7 | Accuracy = 67.0 | Val Loss = 0.21500679850578308 | Loss = 0.2127026468515396\n"
          ]
        },
        {
          "output_type": "stream",
          "name": "stderr",
          "text": [
            "\r  6%|▌         | 6/100 [03:06<48:41, 31.08s/it]"
          ]
        },
        {
          "output_type": "stream",
          "name": "stdout",
          "text": [
            "Val Accuracy = 66.8 | Accuracy = 67.4 | Val Loss = 0.2131413221359253 | Loss = 0.2114160656929016\n"
          ]
        },
        {
          "output_type": "stream",
          "name": "stderr",
          "text": [
            "\r  7%|▋         | 7/100 [03:37<48:12, 31.10s/it]"
          ]
        },
        {
          "output_type": "stream",
          "name": "stdout",
          "text": [
            "Val Accuracy = 64.1 | Accuracy = 66.4 | Val Loss = 0.21825484931468964 | Loss = 0.2164689302444458\n"
          ]
        },
        {
          "output_type": "stream",
          "name": "stderr",
          "text": [
            "\r  8%|▊         | 8/100 [04:09<48:24, 31.57s/it]"
          ]
        },
        {
          "output_type": "stream",
          "name": "stdout",
          "text": [
            "Val Accuracy = 66.0 | Accuracy = 67.4 | Val Loss = 0.21312424540519714 | Loss = 0.21104098856449127\n"
          ]
        },
        {
          "output_type": "stream",
          "name": "stderr",
          "text": [
            "\r  9%|▉         | 9/100 [04:40<47:35, 31.38s/it]"
          ]
        },
        {
          "output_type": "stream",
          "name": "stdout",
          "text": [
            "Val Accuracy = 64.9 | Accuracy = 66.60000000000001 | Val Loss = 0.21680450439453125 | Loss = 0.2144835740327835\n"
          ]
        },
        {
          "output_type": "stream",
          "name": "stderr",
          "text": [
            "\r 10%|█         | 10/100 [05:11<46:47, 31.20s/it]"
          ]
        },
        {
          "output_type": "stream",
          "name": "stdout",
          "text": [
            "Val Accuracy = 65.8 | Accuracy = 65.8 | Val Loss = 0.21646998822689056 | Loss = 0.21609407663345337\n"
          ]
        },
        {
          "output_type": "stream",
          "name": "stderr",
          "text": [
            "\r 11%|█         | 11/100 [05:41<45:55, 30.97s/it]"
          ]
        },
        {
          "output_type": "stream",
          "name": "stdout",
          "text": [
            "Val Accuracy = 66.4 | Accuracy = 67.10000000000001 | Val Loss = 0.2120600938796997 | Loss = 0.21052047610282898\n"
          ]
        },
        {
          "output_type": "stream",
          "name": "stderr",
          "text": [
            "\r 12%|█▏        | 12/100 [06:12<45:11, 30.81s/it]"
          ]
        },
        {
          "output_type": "stream",
          "name": "stdout",
          "text": [
            "Val Accuracy = 67.60000000000001 | Accuracy = 67.80000000000001 | Val Loss = 0.21193012595176697 | Loss = 0.20912645757198334\n"
          ]
        },
        {
          "output_type": "stream",
          "name": "stderr",
          "text": [
            "\r 13%|█▎        | 13/100 [06:42<44:28, 30.68s/it]"
          ]
        },
        {
          "output_type": "stream",
          "name": "stdout",
          "text": [
            "Val Accuracy = 67.9 | Accuracy = 67.60000000000001 | Val Loss = 0.2119254171848297 | Loss = 0.20891432464122772\n"
          ]
        },
        {
          "output_type": "stream",
          "name": "stderr",
          "text": [
            "\r 14%|█▍        | 14/100 [07:14<44:34, 31.10s/it]"
          ]
        },
        {
          "output_type": "stream",
          "name": "stdout",
          "text": [
            "Val Accuracy = 66.4 | Accuracy = 66.7 | Val Loss = 0.215778648853302 | Loss = 0.21313053369522095\n"
          ]
        },
        {
          "output_type": "stream",
          "name": "stderr",
          "text": [
            "\r 15%|█▌        | 15/100 [07:45<43:53, 30.99s/it]"
          ]
        },
        {
          "output_type": "stream",
          "name": "stdout",
          "text": [
            "Val Accuracy = 66.4 | Accuracy = 67.60000000000001 | Val Loss = 0.2114631086587906 | Loss = 0.21029911935329437\n"
          ]
        },
        {
          "output_type": "stream",
          "name": "stderr",
          "text": [
            "\r 16%|█▌        | 16/100 [08:15<43:08, 30.81s/it]"
          ]
        },
        {
          "output_type": "stream",
          "name": "stdout",
          "text": [
            "Val Accuracy = 67.60000000000001 | Accuracy = 67.4 | Val Loss = 0.21247488260269165 | Loss = 0.2094021886587143\n"
          ]
        },
        {
          "output_type": "stream",
          "name": "stderr",
          "text": [
            "\r 17%|█▋        | 17/100 [08:45<42:16, 30.56s/it]"
          ]
        },
        {
          "output_type": "stream",
          "name": "stdout",
          "text": [
            "Val Accuracy = 68.10000000000001 | Accuracy = 67.7 | Val Loss = 0.21041521430015564 | Loss = 0.20859894156455994\n"
          ]
        },
        {
          "output_type": "stream",
          "name": "stderr",
          "text": [
            "\r 18%|█▊        | 18/100 [09:16<41:48, 30.59s/it]"
          ]
        },
        {
          "output_type": "stream",
          "name": "stdout",
          "text": [
            "Val Accuracy = 66.8 | Accuracy = 67.80000000000001 | Val Loss = 0.21046802401542664 | Loss = 0.2092820703983307\n"
          ]
        },
        {
          "output_type": "stream",
          "name": "stderr",
          "text": [
            "\r 19%|█▉        | 19/100 [09:47<41:15, 30.56s/it]"
          ]
        },
        {
          "output_type": "stream",
          "name": "stdout",
          "text": [
            "Val Accuracy = 66.60000000000001 | Accuracy = 67.30000000000001 | Val Loss = 0.2132282257080078 | Loss = 0.21186035871505737\n"
          ]
        },
        {
          "output_type": "stream",
          "name": "stderr",
          "text": [
            "\r 20%|██        | 20/100 [10:18<41:09, 30.87s/it]"
          ]
        },
        {
          "output_type": "stream",
          "name": "stdout",
          "text": [
            "Val Accuracy = 66.60000000000001 | Accuracy = 67.30000000000001 | Val Loss = 0.21197615563869476 | Loss = 0.2103223204612732\n"
          ]
        },
        {
          "output_type": "stream",
          "name": "stderr",
          "text": [
            "\r 21%|██        | 21/100 [10:48<40:24, 30.70s/it]"
          ]
        },
        {
          "output_type": "stream",
          "name": "stdout",
          "text": [
            "Val Accuracy = 67.9 | Accuracy = 68.10000000000001 | Val Loss = 0.21247805655002594 | Loss = 0.20662719011306763\n"
          ]
        },
        {
          "output_type": "stream",
          "name": "stderr",
          "text": [
            "\r 22%|██▏       | 22/100 [11:19<40:00, 30.78s/it]"
          ]
        },
        {
          "output_type": "stream",
          "name": "stdout",
          "text": [
            "Val Accuracy = 67.4 | Accuracy = 68.2 | Val Loss = 0.2110019326210022 | Loss = 0.2067655771970749\n"
          ]
        },
        {
          "output_type": "stream",
          "name": "stderr",
          "text": [
            "\r 23%|██▎       | 23/100 [11:51<39:53, 31.08s/it]"
          ]
        },
        {
          "output_type": "stream",
          "name": "stdout",
          "text": [
            "Val Accuracy = 68.89999999999999 | Accuracy = 68.10000000000001 | Val Loss = 0.21129938960075378 | Loss = 0.2060593217611313\n"
          ]
        },
        {
          "output_type": "stream",
          "name": "stderr",
          "text": [
            "\r 24%|██▍       | 24/100 [12:23<39:41, 31.34s/it]"
          ]
        },
        {
          "output_type": "stream",
          "name": "stdout",
          "text": [
            "Val Accuracy = 67.9 | Accuracy = 68.8 | Val Loss = 0.21079672873020172 | Loss = 0.20480464398860931\n"
          ]
        },
        {
          "output_type": "stream",
          "name": "stderr",
          "text": [
            "\r 25%|██▌       | 25/100 [12:55<39:32, 31.63s/it]"
          ]
        },
        {
          "output_type": "stream",
          "name": "stdout",
          "text": [
            "Val Accuracy = 68.89999999999999 | Accuracy = 69.5 | Val Loss = 0.21109575033187866 | Loss = 0.20278805494308472\n"
          ]
        },
        {
          "output_type": "stream",
          "name": "stderr",
          "text": [
            "\r 26%|██▌       | 26/100 [13:29<39:42, 32.19s/it]"
          ]
        },
        {
          "output_type": "stream",
          "name": "stdout",
          "text": [
            "Val Accuracy = 67.60000000000001 | Accuracy = 68.8 | Val Loss = 0.2125934660434723 | Loss = 0.20539487898349762\n"
          ]
        },
        {
          "output_type": "stream",
          "name": "stderr",
          "text": [
            "\r 27%|██▋       | 27/100 [14:01<39:03, 32.11s/it]"
          ]
        },
        {
          "output_type": "stream",
          "name": "stdout",
          "text": [
            "Val Accuracy = 67.60000000000001 | Accuracy = 69.0 | Val Loss = 0.2138683944940567 | Loss = 0.20456431806087494\n"
          ]
        },
        {
          "output_type": "stream",
          "name": "stderr",
          "text": [
            "\r 28%|██▊       | 28/100 [14:33<38:30, 32.09s/it]"
          ]
        },
        {
          "output_type": "stream",
          "name": "stdout",
          "text": [
            "Val Accuracy = 67.0 | Accuracy = 68.60000000000001 | Val Loss = 0.214433491230011 | Loss = 0.20409055054187775\n"
          ]
        },
        {
          "output_type": "stream",
          "name": "stderr",
          "text": [
            "\r 29%|██▉       | 29/100 [15:05<37:59, 32.10s/it]"
          ]
        },
        {
          "output_type": "stream",
          "name": "stdout",
          "text": [
            "Val Accuracy = 68.10000000000001 | Accuracy = 69.5 | Val Loss = 0.2130502462387085 | Loss = 0.20284059643745422\n"
          ]
        },
        {
          "output_type": "stream",
          "name": "stderr",
          "text": [
            "\r 30%|███       | 30/100 [15:37<37:30, 32.15s/it]"
          ]
        },
        {
          "output_type": "stream",
          "name": "stdout",
          "text": [
            "Val Accuracy = 67.9 | Accuracy = 70.1 | Val Loss = 0.2144787311553955 | Loss = 0.20072776079177856\n"
          ]
        },
        {
          "output_type": "stream",
          "name": "stderr",
          "text": [
            "\r 31%|███       | 31/100 [16:09<36:54, 32.10s/it]"
          ]
        },
        {
          "output_type": "stream",
          "name": "stdout",
          "text": [
            "Val Accuracy = 67.9 | Accuracy = 70.1 | Val Loss = 0.21431420743465424 | Loss = 0.20058603584766388\n"
          ]
        },
        {
          "output_type": "stream",
          "name": "stderr",
          "text": [
            "\r 32%|███▏      | 32/100 [16:43<36:49, 32.49s/it]"
          ]
        },
        {
          "output_type": "stream",
          "name": "stdout",
          "text": [
            "Val Accuracy = 68.30000000000001 | Accuracy = 69.69999999999999 | Val Loss = 0.21578271687030792 | Loss = 0.20079001784324646\n"
          ]
        },
        {
          "output_type": "stream",
          "name": "stderr",
          "text": [
            "\r 33%|███▎      | 33/100 [17:16<36:23, 32.59s/it]"
          ]
        },
        {
          "output_type": "stream",
          "name": "stdout",
          "text": [
            "Val Accuracy = 69.1 | Accuracy = 70.5 | Val Loss = 0.21789176762104034 | Loss = 0.19806742668151855\n"
          ]
        },
        {
          "output_type": "stream",
          "name": "stderr",
          "text": [
            "\r 34%|███▍      | 34/100 [17:48<35:44, 32.49s/it]"
          ]
        },
        {
          "output_type": "stream",
          "name": "stdout",
          "text": [
            "Val Accuracy = 67.2 | Accuracy = 70.3 | Val Loss = 0.22171521186828613 | Loss = 0.19971971213817596\n"
          ]
        },
        {
          "output_type": "stream",
          "name": "stderr",
          "text": [
            "\r 35%|███▌      | 35/100 [18:20<35:03, 32.35s/it]"
          ]
        },
        {
          "output_type": "stream",
          "name": "stdout",
          "text": [
            "Val Accuracy = 65.8 | Accuracy = 66.3 | Val Loss = 0.21986258029937744 | Loss = 0.2161717563867569\n"
          ]
        },
        {
          "output_type": "stream",
          "name": "stderr",
          "text": [
            "\r 36%|███▌      | 36/100 [18:52<34:22, 32.23s/it]"
          ]
        },
        {
          "output_type": "stream",
          "name": "stdout",
          "text": [
            "Val Accuracy = 68.10000000000001 | Accuracy = 70.89999999999999 | Val Loss = 0.22327594459056854 | Loss = 0.19510605931282043\n"
          ]
        },
        {
          "output_type": "stream",
          "name": "stderr",
          "text": [
            "\r 37%|███▋      | 37/100 [19:24<33:44, 32.14s/it]"
          ]
        },
        {
          "output_type": "stream",
          "name": "stdout",
          "text": [
            "Val Accuracy = 66.2 | Accuracy = 70.19999999999999 | Val Loss = 0.22911882400512695 | Loss = 0.19854633510112762\n"
          ]
        },
        {
          "output_type": "stream",
          "name": "stderr",
          "text": [
            "\r 38%|███▊      | 38/100 [19:58<33:49, 32.73s/it]"
          ]
        },
        {
          "output_type": "stream",
          "name": "stdout",
          "text": [
            "Val Accuracy = 66.60000000000001 | Accuracy = 71.0 | Val Loss = 0.2308136224746704 | Loss = 0.1955464482307434\n"
          ]
        },
        {
          "output_type": "stream",
          "name": "stderr",
          "text": [
            "\r 39%|███▉      | 39/100 [20:31<33:17, 32.74s/it]"
          ]
        },
        {
          "output_type": "stream",
          "name": "stdout",
          "text": [
            "Val Accuracy = 68.89999999999999 | Accuracy = 71.5 | Val Loss = 0.23012620210647583 | Loss = 0.1919824779033661\n"
          ]
        },
        {
          "output_type": "stream",
          "name": "stderr",
          "text": [
            "\r 40%|████      | 40/100 [21:03<32:30, 32.51s/it]"
          ]
        },
        {
          "output_type": "stream",
          "name": "stdout",
          "text": [
            "Val Accuracy = 66.2 | Accuracy = 71.0 | Val Loss = 0.22807209193706512 | Loss = 0.19658005237579346\n"
          ]
        },
        {
          "output_type": "stream",
          "name": "stderr",
          "text": [
            "\r 41%|████      | 41/100 [21:35<31:53, 32.43s/it]"
          ]
        },
        {
          "output_type": "stream",
          "name": "stdout",
          "text": [
            "Val Accuracy = 66.4 | Accuracy = 71.6 | Val Loss = 0.23040539026260376 | Loss = 0.1910950094461441\n"
          ]
        },
        {
          "output_type": "stream",
          "name": "stderr",
          "text": [
            "\r 42%|████▏     | 42/100 [22:07<31:08, 32.21s/it]"
          ]
        },
        {
          "output_type": "stream",
          "name": "stdout",
          "text": [
            "Val Accuracy = 66.2 | Accuracy = 70.8 | Val Loss = 0.23978431522846222 | Loss = 0.19531285762786865\n"
          ]
        },
        {
          "output_type": "stream",
          "name": "stderr",
          "text": [
            "\r 43%|████▎     | 43/100 [22:39<30:33, 32.16s/it]"
          ]
        },
        {
          "output_type": "stream",
          "name": "stdout",
          "text": [
            "Val Accuracy = 66.4 | Accuracy = 72.2 | Val Loss = 0.2380528748035431 | Loss = 0.19001109898090363\n"
          ]
        },
        {
          "output_type": "stream",
          "name": "stderr",
          "text": [
            "\r 44%|████▍     | 44/100 [23:13<30:32, 32.72s/it]"
          ]
        },
        {
          "output_type": "stream",
          "name": "stdout",
          "text": [
            "Val Accuracy = 63.2 | Accuracy = 71.0 | Val Loss = 0.24927066266536713 | Loss = 0.19525958597660065\n"
          ]
        },
        {
          "output_type": "stream",
          "name": "stderr",
          "text": [
            "\r 45%|████▌     | 45/100 [23:45<29:51, 32.56s/it]"
          ]
        },
        {
          "output_type": "stream",
          "name": "stdout",
          "text": [
            "Val Accuracy = 64.3 | Accuracy = 71.6 | Val Loss = 0.24609999358654022 | Loss = 0.19202883541584015\n"
          ]
        },
        {
          "output_type": "stream",
          "name": "stderr",
          "text": [
            "\r 46%|████▌     | 46/100 [24:17<29:19, 32.58s/it]"
          ]
        },
        {
          "output_type": "stream",
          "name": "stdout",
          "text": [
            "Val Accuracy = 64.3 | Accuracy = 71.89999999999999 | Val Loss = 0.2501426935195923 | Loss = 0.18930336833000183\n"
          ]
        },
        {
          "output_type": "stream",
          "name": "stderr",
          "text": [
            "\r 47%|████▋     | 47/100 [24:50<28:41, 32.49s/it]"
          ]
        },
        {
          "output_type": "stream",
          "name": "stdout",
          "text": [
            "Val Accuracy = 63.2 | Accuracy = 71.7 | Val Loss = 0.2565210461616516 | Loss = 0.1934947520494461\n"
          ]
        },
        {
          "output_type": "stream",
          "name": "stderr",
          "text": [
            "\r 48%|████▊     | 48/100 [25:22<28:11, 32.52s/it]"
          ]
        },
        {
          "output_type": "stream",
          "name": "stdout",
          "text": [
            "Val Accuracy = 62.0 | Accuracy = 71.2 | Val Loss = 0.2595464289188385 | Loss = 0.19388099014759064\n"
          ]
        },
        {
          "output_type": "stream",
          "name": "stderr",
          "text": [
            "\r 49%|████▉     | 49/100 [25:55<27:42, 32.59s/it]"
          ]
        },
        {
          "output_type": "stream",
          "name": "stdout",
          "text": [
            "Val Accuracy = 64.5 | Accuracy = 72.39999999999999 | Val Loss = 0.2522020637989044 | Loss = 0.18927323818206787\n"
          ]
        },
        {
          "output_type": "stream",
          "name": "stderr",
          "text": [
            "\r 50%|█████     | 50/100 [26:29<27:33, 33.06s/it]"
          ]
        },
        {
          "output_type": "stream",
          "name": "stdout",
          "text": [
            "Val Accuracy = 63.7 | Accuracy = 72.89999999999999 | Val Loss = 0.25778356194496155 | Loss = 0.18581591546535492\n"
          ]
        },
        {
          "output_type": "stream",
          "name": "stderr",
          "text": [
            "\r 51%|█████     | 51/100 [27:01<26:46, 32.79s/it]"
          ]
        },
        {
          "output_type": "stream",
          "name": "stdout",
          "text": [
            "Val Accuracy = 62.0 | Accuracy = 72.6 | Val Loss = 0.2696114778518677 | Loss = 0.18732419610023499\n"
          ]
        },
        {
          "output_type": "stream",
          "name": "stderr",
          "text": [
            "\r 52%|█████▏    | 52/100 [27:33<25:54, 32.38s/it]"
          ]
        },
        {
          "output_type": "stream",
          "name": "stdout",
          "text": [
            "Val Accuracy = 63.2 | Accuracy = 71.8 | Val Loss = 0.26651379466056824 | Loss = 0.19462911784648895\n"
          ]
        },
        {
          "output_type": "stream",
          "name": "stderr",
          "text": [
            "\r 53%|█████▎    | 53/100 [28:05<25:18, 32.30s/it]"
          ]
        },
        {
          "output_type": "stream",
          "name": "stdout",
          "text": [
            "Val Accuracy = 63.2 | Accuracy = 74.1 | Val Loss = 0.26296427845954895 | Loss = 0.1815710812807083\n"
          ]
        },
        {
          "output_type": "stream",
          "name": "stderr",
          "text": [
            "\r 54%|█████▍    | 54/100 [28:37<24:47, 32.33s/it]"
          ]
        },
        {
          "output_type": "stream",
          "name": "stdout",
          "text": [
            "Val Accuracy = 64.5 | Accuracy = 74.4 | Val Loss = 0.2619245946407318 | Loss = 0.18093551695346832\n"
          ]
        },
        {
          "output_type": "stream",
          "name": "stderr",
          "text": [
            "\r 55%|█████▌    | 55/100 [29:10<24:13, 32.30s/it]"
          ]
        },
        {
          "output_type": "stream",
          "name": "stdout",
          "text": [
            "Val Accuracy = 63.2 | Accuracy = 72.7 | Val Loss = 0.27416089177131653 | Loss = 0.20315581560134888\n"
          ]
        },
        {
          "output_type": "stream",
          "name": "stderr",
          "text": [
            "\r 56%|█████▌    | 56/100 [29:43<24:03, 32.80s/it]"
          ]
        },
        {
          "output_type": "stream",
          "name": "stdout",
          "text": [
            "Val Accuracy = 62.4 | Accuracy = 73.4 | Val Loss = 0.2656068205833435 | Loss = 0.18462850153446198\n"
          ]
        },
        {
          "output_type": "stream",
          "name": "stderr",
          "text": [
            "\r 57%|█████▋    | 57/100 [30:16<23:28, 32.75s/it]"
          ]
        },
        {
          "output_type": "stream",
          "name": "stdout",
          "text": [
            "Val Accuracy = 63.7 | Accuracy = 74.4 | Val Loss = 0.2744969427585602 | Loss = 0.18410691618919373\n"
          ]
        },
        {
          "output_type": "stream",
          "name": "stderr",
          "text": [
            "\r 58%|█████▊    | 58/100 [30:49<22:50, 32.64s/it]"
          ]
        },
        {
          "output_type": "stream",
          "name": "stdout",
          "text": [
            "Val Accuracy = 61.6 | Accuracy = 73.5 | Val Loss = 0.2831569015979767 | Loss = 0.1875946819782257\n"
          ]
        },
        {
          "output_type": "stream",
          "name": "stderr",
          "text": [
            "\r 59%|█████▉    | 59/100 [31:21<22:13, 32.53s/it]"
          ]
        },
        {
          "output_type": "stream",
          "name": "stdout",
          "text": [
            "Val Accuracy = 61.1 | Accuracy = 73.0 | Val Loss = 0.2875915467739105 | Loss = 0.19803667068481445\n"
          ]
        },
        {
          "output_type": "stream",
          "name": "stderr",
          "text": [
            "\r 60%|██████    | 60/100 [31:53<21:37, 32.43s/it]"
          ]
        },
        {
          "output_type": "stream",
          "name": "stdout",
          "text": [
            "Val Accuracy = 62.8 | Accuracy = 74.1 | Val Loss = 0.2726001441478729 | Loss = 0.18294645845890045\n"
          ]
        },
        {
          "output_type": "stream",
          "name": "stderr",
          "text": [
            "\r 61%|██████    | 61/100 [32:28<21:30, 33.09s/it]"
          ]
        },
        {
          "output_type": "stream",
          "name": "stdout",
          "text": [
            "Val Accuracy = 59.699999999999996 | Accuracy = 74.6 | Val Loss = 0.29357022047042847 | Loss = 0.18538640439510345\n"
          ]
        },
        {
          "output_type": "stream",
          "name": "stderr",
          "text": [
            "\r 62%|██████▏   | 62/100 [33:00<20:52, 32.96s/it]"
          ]
        },
        {
          "output_type": "stream",
          "name": "stdout",
          "text": [
            "Val Accuracy = 62.2 | Accuracy = 75.2 | Val Loss = 0.28266534209251404 | Loss = 0.17796602845191956\n"
          ]
        },
        {
          "output_type": "stream",
          "name": "stderr",
          "text": [
            "\r 63%|██████▎   | 63/100 [33:33<20:20, 32.97s/it]"
          ]
        },
        {
          "output_type": "stream",
          "name": "stdout",
          "text": [
            "Val Accuracy = 62.0 | Accuracy = 75.6 | Val Loss = 0.29302939772605896 | Loss = 0.17873674631118774\n"
          ]
        },
        {
          "output_type": "stream",
          "name": "stderr",
          "text": [
            "\r 64%|██████▍   | 64/100 [34:06<19:40, 32.78s/it]"
          ]
        },
        {
          "output_type": "stream",
          "name": "stdout",
          "text": [
            "Val Accuracy = 61.1 | Accuracy = 75.8 | Val Loss = 0.29373160004615784 | Loss = 0.17772617936134338\n"
          ]
        },
        {
          "output_type": "stream",
          "name": "stderr",
          "text": [
            "\r 65%|██████▌   | 65/100 [34:38<19:03, 32.66s/it]"
          ]
        },
        {
          "output_type": "stream",
          "name": "stdout",
          "text": [
            "Val Accuracy = 60.699999999999996 | Accuracy = 75.8 | Val Loss = 0.30432313680648804 | Loss = 0.17919467389583588\n"
          ]
        },
        {
          "output_type": "stream",
          "name": "stderr",
          "text": [
            "\r 66%|██████▌   | 66/100 [35:11<18:29, 32.64s/it]"
          ]
        },
        {
          "output_type": "stream",
          "name": "stdout",
          "text": [
            "Val Accuracy = 60.699999999999996 | Accuracy = 76.1 | Val Loss = 0.3054925501346588 | Loss = 0.17841745913028717\n"
          ]
        },
        {
          "output_type": "stream",
          "name": "stderr",
          "text": [
            "\r 67%|██████▋   | 67/100 [35:45<18:15, 33.21s/it]"
          ]
        },
        {
          "output_type": "stream",
          "name": "stdout",
          "text": [
            "Val Accuracy = 60.099999999999994 | Accuracy = 76.3 | Val Loss = 0.29766845703125 | Loss = 0.1711028665304184\n"
          ]
        },
        {
          "output_type": "stream",
          "name": "stderr",
          "text": [
            "\r 68%|██████▊   | 68/100 [36:18<17:40, 33.15s/it]"
          ]
        },
        {
          "output_type": "stream",
          "name": "stdout",
          "text": [
            "Val Accuracy = 62.2 | Accuracy = 73.7 | Val Loss = 0.3081492781639099 | Loss = 0.19505563378334045\n"
          ]
        },
        {
          "output_type": "stream",
          "name": "stderr",
          "text": [
            "\r 69%|██████▉   | 69/100 [36:50<16:59, 32.89s/it]"
          ]
        },
        {
          "output_type": "stream",
          "name": "stdout",
          "text": [
            "Val Accuracy = 61.3 | Accuracy = 76.1 | Val Loss = 0.3062601685523987 | Loss = 0.18173839151859283\n"
          ]
        },
        {
          "output_type": "stream",
          "name": "stderr",
          "text": [
            "\r 70%|███████   | 70/100 [37:23<16:20, 32.69s/it]"
          ]
        },
        {
          "output_type": "stream",
          "name": "stdout",
          "text": [
            "Val Accuracy = 62.0 | Accuracy = 75.8 | Val Loss = 0.30887705087661743 | Loss = 0.1830599009990692\n"
          ]
        },
        {
          "output_type": "stream",
          "name": "stderr",
          "text": [
            "\r 71%|███████   | 71/100 [37:55<15:42, 32.51s/it]"
          ]
        },
        {
          "output_type": "stream",
          "name": "stdout",
          "text": [
            "Val Accuracy = 60.699999999999996 | Accuracy = 78.10000000000001 | Val Loss = 0.30978885293006897 | Loss = 0.16391612589359283\n"
          ]
        },
        {
          "output_type": "stream",
          "name": "stderr",
          "text": [
            "\r 72%|███████▏  | 72/100 [38:27<15:05, 32.35s/it]"
          ]
        },
        {
          "output_type": "stream",
          "name": "stdout",
          "text": [
            "Val Accuracy = 62.6 | Accuracy = 76.8 | Val Loss = 0.30320435762405396 | Loss = 0.17672348022460938\n"
          ]
        },
        {
          "output_type": "stream",
          "name": "stderr",
          "text": [
            "\r 73%|███████▎  | 73/100 [39:01<14:48, 32.89s/it]"
          ]
        },
        {
          "output_type": "stream",
          "name": "stdout",
          "text": [
            "Val Accuracy = 61.3 | Accuracy = 77.10000000000001 | Val Loss = 0.31143471598625183 | Loss = 0.1700841784477234\n"
          ]
        },
        {
          "output_type": "stream",
          "name": "stderr",
          "text": [
            "\r 74%|███████▍  | 74/100 [39:33<14:12, 32.78s/it]"
          ]
        },
        {
          "output_type": "stream",
          "name": "stdout",
          "text": [
            "Val Accuracy = 64.1 | Accuracy = 77.8 | Val Loss = 0.30114635825157166 | Loss = 0.16894927620887756\n"
          ]
        },
        {
          "output_type": "stream",
          "name": "stderr",
          "text": [
            "\r 75%|███████▌  | 75/100 [40:07<13:42, 32.90s/it]"
          ]
        },
        {
          "output_type": "stream",
          "name": "stdout",
          "text": [
            "Val Accuracy = 60.3 | Accuracy = 76.0 | Val Loss = 0.3305932581424713 | Loss = 0.18615807592868805\n"
          ]
        },
        {
          "output_type": "stream",
          "name": "stderr",
          "text": [
            "\r 76%|███████▌  | 76/100 [40:39<13:05, 32.75s/it]"
          ]
        },
        {
          "output_type": "stream",
          "name": "stdout",
          "text": [
            "Val Accuracy = 61.6 | Accuracy = 79.4 | Val Loss = 0.3225559890270233 | Loss = 0.15420657396316528\n"
          ]
        },
        {
          "output_type": "stream",
          "name": "stderr",
          "text": [
            "\r 77%|███████▋  | 77/100 [41:11<12:31, 32.66s/it]"
          ]
        },
        {
          "output_type": "stream",
          "name": "stdout",
          "text": [
            "Val Accuracy = 59.5 | Accuracy = 78.2 | Val Loss = 0.33199262619018555 | Loss = 0.16562415659427643\n"
          ]
        },
        {
          "output_type": "stream",
          "name": "stderr",
          "text": [
            "\r 78%|███████▊  | 78/100 [41:44<11:59, 32.68s/it]"
          ]
        },
        {
          "output_type": "stream",
          "name": "stdout",
          "text": [
            "Val Accuracy = 60.5 | Accuracy = 78.10000000000001 | Val Loss = 0.32427436113357544 | Loss = 0.16635683178901672\n"
          ]
        },
        {
          "output_type": "stream",
          "name": "stderr",
          "text": [
            "\r 79%|███████▉  | 79/100 [42:19<11:42, 33.47s/it]"
          ]
        },
        {
          "output_type": "stream",
          "name": "stdout",
          "text": [
            "Val Accuracy = 60.699999999999996 | Accuracy = 79.7 | Val Loss = 0.32274433970451355 | Loss = 0.1528344303369522\n"
          ]
        },
        {
          "output_type": "stream",
          "name": "stderr",
          "text": [
            "\r 80%|████████  | 80/100 [42:52<11:05, 33.30s/it]"
          ]
        },
        {
          "output_type": "stream",
          "name": "stdout",
          "text": [
            "Val Accuracy = 60.3 | Accuracy = 79.10000000000001 | Val Loss = 0.3403031826019287 | Loss = 0.16042129695415497\n"
          ]
        },
        {
          "output_type": "stream",
          "name": "stderr",
          "text": [
            "\r 81%|████████  | 81/100 [43:25<10:29, 33.15s/it]"
          ]
        },
        {
          "output_type": "stream",
          "name": "stdout",
          "text": [
            "Val Accuracy = 61.1 | Accuracy = 77.3 | Val Loss = 0.32376599311828613 | Loss = 0.17318610846996307\n"
          ]
        },
        {
          "output_type": "stream",
          "name": "stderr",
          "text": [
            "\r 82%|████████▏ | 82/100 [43:58<09:55, 33.07s/it]"
          ]
        },
        {
          "output_type": "stream",
          "name": "stdout",
          "text": [
            "Val Accuracy = 64.1 | Accuracy = 79.0 | Val Loss = 0.3126002252101898 | Loss = 0.16309572756290436\n"
          ]
        },
        {
          "output_type": "stream",
          "name": "stderr",
          "text": [
            "\r 83%|████████▎ | 83/100 [44:31<09:21, 33.05s/it]"
          ]
        },
        {
          "output_type": "stream",
          "name": "stdout",
          "text": [
            "Val Accuracy = 60.9 | Accuracy = 81.0 | Val Loss = 0.33191657066345215 | Loss = 0.14477792382240295\n"
          ]
        },
        {
          "output_type": "stream",
          "name": "stderr",
          "text": [
            "\r 84%|████████▍ | 84/100 [45:04<08:49, 33.11s/it]"
          ]
        },
        {
          "output_type": "stream",
          "name": "stdout",
          "text": [
            "Val Accuracy = 61.1 | Accuracy = 80.30000000000001 | Val Loss = 0.3372047245502472 | Loss = 0.15419277548789978\n"
          ]
        },
        {
          "output_type": "stream",
          "name": "stderr",
          "text": [
            "\r 85%|████████▌ | 85/100 [45:39<08:25, 33.72s/it]"
          ]
        },
        {
          "output_type": "stream",
          "name": "stdout",
          "text": [
            "Val Accuracy = 56.3 | Accuracy = 78.8 | Val Loss = 0.3746647834777832 | Loss = 0.16534191370010376\n"
          ]
        },
        {
          "output_type": "stream",
          "name": "stderr",
          "text": [
            "\r 86%|████████▌ | 86/100 [46:12<07:48, 33.49s/it]"
          ]
        },
        {
          "output_type": "stream",
          "name": "stdout",
          "text": [
            "Val Accuracy = 60.699999999999996 | Accuracy = 79.0 | Val Loss = 0.34884899854660034 | Loss = 0.16647371649742126\n"
          ]
        },
        {
          "output_type": "stream",
          "name": "stderr",
          "text": [
            "\r 87%|████████▋ | 87/100 [46:46<07:16, 33.55s/it]"
          ]
        },
        {
          "output_type": "stream",
          "name": "stdout",
          "text": [
            "Val Accuracy = 57.599999999999994 | Accuracy = 80.30000000000001 | Val Loss = 0.37232688069343567 | Loss = 0.15367911756038666\n"
          ]
        },
        {
          "output_type": "stream",
          "name": "stderr",
          "text": [
            "\r 88%|████████▊ | 88/100 [47:19<06:42, 33.51s/it]"
          ]
        },
        {
          "output_type": "stream",
          "name": "stdout",
          "text": [
            "Val Accuracy = 57.599999999999994 | Accuracy = 81.0 | Val Loss = 0.3631059527397156 | Loss = 0.15012820065021515\n"
          ]
        },
        {
          "output_type": "stream",
          "name": "stderr",
          "text": [
            "\r 89%|████████▉ | 89/100 [47:53<06:08, 33.50s/it]"
          ]
        },
        {
          "output_type": "stream",
          "name": "stdout",
          "text": [
            "Val Accuracy = 57.4 | Accuracy = 79.80000000000001 | Val Loss = 0.3733671307563782 | Loss = 0.16211169958114624\n"
          ]
        },
        {
          "output_type": "stream",
          "name": "stderr",
          "text": [
            "\r 90%|█████████ | 90/100 [48:28<05:40, 34.07s/it]"
          ]
        },
        {
          "output_type": "stream",
          "name": "stdout",
          "text": [
            "Val Accuracy = 59.0 | Accuracy = 79.80000000000001 | Val Loss = 0.35656261444091797 | Loss = 0.16187426447868347\n"
          ]
        },
        {
          "output_type": "stream",
          "name": "stderr",
          "text": [
            "\r 91%|█████████ | 91/100 [49:02<05:04, 33.86s/it]"
          ]
        },
        {
          "output_type": "stream",
          "name": "stdout",
          "text": [
            "Val Accuracy = 60.5 | Accuracy = 80.5 | Val Loss = 0.3503206670284271 | Loss = 0.15845173597335815\n"
          ]
        },
        {
          "output_type": "stream",
          "name": "stderr",
          "text": [
            "\r 92%|█████████▏| 92/100 [49:34<04:26, 33.34s/it]"
          ]
        },
        {
          "output_type": "stream",
          "name": "stdout",
          "text": [
            "Val Accuracy = 57.99999999999999 | Accuracy = 80.4 | Val Loss = 0.37084171175956726 | Loss = 0.15788444876670837\n"
          ]
        },
        {
          "output_type": "stream",
          "name": "stderr",
          "text": [
            "\r 93%|█████████▎| 93/100 [50:06<03:51, 33.08s/it]"
          ]
        },
        {
          "output_type": "stream",
          "name": "stdout",
          "text": [
            "Val Accuracy = 57.99999999999999 | Accuracy = 79.3 | Val Loss = 0.36116912961006165 | Loss = 0.163535937666893\n"
          ]
        },
        {
          "output_type": "stream",
          "name": "stderr",
          "text": [
            "\r 94%|█████████▍| 94/100 [50:39<03:18, 33.10s/it]"
          ]
        },
        {
          "output_type": "stream",
          "name": "stdout",
          "text": [
            "Val Accuracy = 57.8 | Accuracy = 81.69999999999999 | Val Loss = 0.3629210889339447 | Loss = 0.14580875635147095\n"
          ]
        },
        {
          "output_type": "stream",
          "name": "stderr",
          "text": [
            "\r 95%|█████████▌| 95/100 [51:12<02:45, 33.02s/it]"
          ]
        },
        {
          "output_type": "stream",
          "name": "stdout",
          "text": [
            "Val Accuracy = 58.4 | Accuracy = 81.5 | Val Loss = 0.3618010878562927 | Loss = 0.15001240372657776\n"
          ]
        },
        {
          "output_type": "stream",
          "name": "stderr",
          "text": [
            "\r 96%|█████████▌| 96/100 [51:47<02:13, 33.49s/it]"
          ]
        },
        {
          "output_type": "stream",
          "name": "stdout",
          "text": [
            "Val Accuracy = 59.5 | Accuracy = 77.9 | Val Loss = 0.3567366302013397 | Loss = 0.17972871661186218\n"
          ]
        },
        {
          "output_type": "stream",
          "name": "stderr",
          "text": [
            "\r 97%|█████████▋| 97/100 [52:20<01:40, 33.45s/it]"
          ]
        },
        {
          "output_type": "stream",
          "name": "stdout",
          "text": [
            "Val Accuracy = 59.199999999999996 | Accuracy = 80.2 | Val Loss = 0.3595283627510071 | Loss = 0.16215850412845612\n"
          ]
        },
        {
          "output_type": "stream",
          "name": "stderr",
          "text": [
            "\r 98%|█████████▊| 98/100 [52:53<01:06, 33.31s/it]"
          ]
        },
        {
          "output_type": "stream",
          "name": "stdout",
          "text": [
            "Val Accuracy = 58.4 | Accuracy = 81.6 | Val Loss = 0.36377212405204773 | Loss = 0.1488240361213684\n"
          ]
        },
        {
          "output_type": "stream",
          "name": "stderr",
          "text": [
            "\r 99%|█████████▉| 99/100 [53:26<00:33, 33.18s/it]"
          ]
        },
        {
          "output_type": "stream",
          "name": "stdout",
          "text": [
            "Val Accuracy = 60.699999999999996 | Accuracy = 82.6 | Val Loss = 0.35354921221733093 | Loss = 0.1398986130952835\n"
          ]
        },
        {
          "output_type": "stream",
          "name": "stderr",
          "text": [
            "100%|██████████| 100/100 [53:59<00:00, 32.39s/it]"
          ]
        },
        {
          "output_type": "stream",
          "name": "stdout",
          "text": [
            "Val Accuracy = 61.1 | Accuracy = 83.0 | Val Loss = 0.33804282546043396 | Loss = 0.13835644721984863\n"
          ]
        },
        {
          "output_type": "stream",
          "name": "stderr",
          "text": [
            "\n"
          ]
        }
      ],
      "source": [
        "iter_epochs = tqdm(range(epochs))\n",
        "for _ in iter_epochs:\n",
        "    for i in range(0,len(X_train),batch_size):\n",
        "        try:\n",
        "            X_batch = X_train[i:i+batch_size]\n",
        "            y_batch = y_train[i:i+batch_size]\n",
        "            preds = model(X_batch.float())\n",
        "            loss = criterion(preds.float().view(-1),y_batch.float().view(-1))\n",
        "            optimizer.zero_grad()\n",
        "            loss.backward()\n",
        "            optimizer.step()\n",
        "        except:\n",
        "            pass\n",
        "    model.eval()\n",
        "    print(f\"Val Accuracy = {accuracy(model,X_test,y_test)} | Accuracy = {accuracy(model,X_train,y_train)} | Val Loss = {g_loss(model,X_test,y_test)} | Loss = {g_loss(model,X_train,y_train)}\")\n",
        "    model.train()"
      ]
    },
    {
      "cell_type": "code",
      "execution_count": 34,
      "id": "776b3b46",
      "metadata": {
        "execution": {
          "iopub.execute_input": "2022-05-14T06:36:56.642388Z",
          "iopub.status.busy": "2022-05-14T06:36:56.641917Z",
          "iopub.status.idle": "2022-05-14T06:36:56.710479Z",
          "shell.execute_reply": "2022-05-14T06:36:56.709278Z"
        },
        "papermill": {
          "duration": 0.81634,
          "end_time": "2022-05-14T06:36:56.713079",
          "exception": false,
          "start_time": "2022-05-14T06:36:55.896739",
          "status": "completed"
        },
        "tags": [],
        "id": "776b3b46"
      },
      "outputs": [],
      "source": [
        "model.eval()\n",
        "preds = model(X_test.float())"
      ]
    },
    {
      "cell_type": "code",
      "execution_count": 35,
      "id": "6207cadb",
      "metadata": {
        "execution": {
          "iopub.execute_input": "2022-05-14T06:36:58.209734Z",
          "iopub.status.busy": "2022-05-14T06:36:58.209442Z",
          "iopub.status.idle": "2022-05-14T06:36:58.213332Z",
          "shell.execute_reply": "2022-05-14T06:36:58.212379Z"
        },
        "papermill": {
          "duration": 0.760738,
          "end_time": "2022-05-14T06:36:58.215431",
          "exception": false,
          "start_time": "2022-05-14T06:36:57.454693",
          "status": "completed"
        },
        "tags": [],
        "id": "6207cadb"
      },
      "outputs": [],
      "source": [
        "new_test = []"
      ]
    },
    {
      "cell_type": "code",
      "execution_count": 36,
      "id": "01ed720e",
      "metadata": {
        "execution": {
          "iopub.execute_input": "2022-05-14T06:36:59.745614Z",
          "iopub.status.busy": "2022-05-14T06:36:59.745323Z",
          "iopub.status.idle": "2022-05-14T06:38:21.802404Z",
          "shell.execute_reply": "2022-05-14T06:38:21.801044Z"
        },
        "papermill": {
          "duration": 82.845853,
          "end_time": "2022-05-14T06:38:21.805141",
          "exception": false,
          "start_time": "2022-05-14T06:36:58.959288",
          "status": "completed"
        },
        "tags": [],
        "colab": {
          "base_uri": "https://localhost:8080/"
        },
        "id": "01ed720e",
        "outputId": "47108465-cdc8-434d-e2c8-4bb2976a670f"
      },
      "outputs": [
        {
          "output_type": "stream",
          "name": "stderr",
          "text": [
            "100%|██████████| 3263/3263 [01:55<00:00, 28.28it/s]\n"
          ]
        }
      ],
      "source": [
        "for X_iter in tqdm(test['text']):\n",
        "    new_test.append(words_to_int(X_iter,all_words))"
      ]
    },
    {
      "cell_type": "code",
      "execution_count": 37,
      "id": "f227c844",
      "metadata": {
        "execution": {
          "iopub.execute_input": "2022-05-14T06:38:23.863854Z",
          "iopub.status.busy": "2022-05-14T06:38:23.863589Z",
          "iopub.status.idle": "2022-05-14T06:38:24.115560Z",
          "shell.execute_reply": "2022-05-14T06:38:24.114324Z"
        },
        "papermill": {
          "duration": 1.303079,
          "end_time": "2022-05-14T06:38:24.118180",
          "exception": false,
          "start_time": "2022-05-14T06:38:22.815101",
          "status": "completed"
        },
        "tags": [],
        "id": "f227c844"
      },
      "outputs": [],
      "source": [
        "new_test = torch.from_numpy(np.array(new_test)).to(device)"
      ]
    },
    {
      "cell_type": "code",
      "execution_count": 38,
      "id": "9df3e2e9",
      "metadata": {
        "execution": {
          "iopub.execute_input": "2022-05-14T06:38:26.107041Z",
          "iopub.status.busy": "2022-05-14T06:38:26.106747Z",
          "iopub.status.idle": "2022-05-14T06:38:26.597183Z",
          "shell.execute_reply": "2022-05-14T06:38:26.596160Z"
        },
        "papermill": {
          "duration": 1.503664,
          "end_time": "2022-05-14T06:38:26.600122",
          "exception": false,
          "start_time": "2022-05-14T06:38:25.096458",
          "status": "completed"
        },
        "tags": [],
        "id": "9df3e2e9"
      },
      "outputs": [],
      "source": [
        "preds = model(new_test.float())"
      ]
    },
    {
      "cell_type": "code",
      "execution_count": 39,
      "id": "2795c04d",
      "metadata": {
        "execution": {
          "iopub.execute_input": "2022-05-14T06:38:28.576357Z",
          "iopub.status.busy": "2022-05-14T06:38:28.576059Z",
          "iopub.status.idle": "2022-05-14T06:38:28.580856Z",
          "shell.execute_reply": "2022-05-14T06:38:28.579641Z"
        },
        "papermill": {
          "duration": 0.995195,
          "end_time": "2022-05-14T06:38:28.583205",
          "exception": false,
          "start_time": "2022-05-14T06:38:27.588010",
          "status": "completed"
        },
        "tags": [],
        "id": "2795c04d"
      },
      "outputs": [],
      "source": [
        "ids = test['id']"
      ]
    },
    {
      "cell_type": "code",
      "execution_count": 40,
      "id": "e1f77597",
      "metadata": {
        "execution": {
          "iopub.execute_input": "2022-05-14T06:38:30.545903Z",
          "iopub.status.busy": "2022-05-14T06:38:30.545636Z",
          "iopub.status.idle": "2022-05-14T06:38:30.549706Z",
          "shell.execute_reply": "2022-05-14T06:38:30.548614Z"
        },
        "papermill": {
          "duration": 0.988908,
          "end_time": "2022-05-14T06:38:30.551760",
          "exception": false,
          "start_time": "2022-05-14T06:38:29.562852",
          "status": "completed"
        },
        "tags": [],
        "id": "e1f77597"
      },
      "outputs": [],
      "source": [
        "submission = {\n",
        "    \"id\":[],\n",
        "    \"target\":[]\n",
        "}"
      ]
    },
    {
      "cell_type": "code",
      "execution_count": 41,
      "id": "69dbb4e2",
      "metadata": {
        "execution": {
          "iopub.execute_input": "2022-05-14T06:38:32.544049Z",
          "iopub.status.busy": "2022-05-14T06:38:32.543601Z",
          "iopub.status.idle": "2022-05-14T06:38:32.588927Z",
          "shell.execute_reply": "2022-05-14T06:38:32.587538Z"
        },
        "papermill": {
          "duration": 1.053877,
          "end_time": "2022-05-14T06:38:32.591372",
          "exception": false,
          "start_time": "2022-05-14T06:38:31.537495",
          "status": "completed"
        },
        "tags": [],
        "colab": {
          "base_uri": "https://localhost:8080/"
        },
        "id": "69dbb4e2",
        "outputId": "93c091fd-b400-4c1c-e16c-c754f9ef146b"
      },
      "outputs": [
        {
          "output_type": "stream",
          "name": "stderr",
          "text": [
            "3263it [00:00, 101418.45it/s]\n"
          ]
        }
      ],
      "source": [
        "for pred,id in tqdm(zip(preds,ids)):\n",
        "    submission['id'].append(id)\n",
        "    submission['target'].append(int(torch.round(pred)))"
      ]
    },
    {
      "cell_type": "code",
      "execution_count": 42,
      "id": "3bc807db",
      "metadata": {
        "execution": {
          "iopub.execute_input": "2022-05-14T06:38:34.742219Z",
          "iopub.status.busy": "2022-05-14T06:38:34.741871Z",
          "iopub.status.idle": "2022-05-14T06:38:34.750656Z",
          "shell.execute_reply": "2022-05-14T06:38:34.749416Z"
        },
        "papermill": {
          "duration": 1.111019,
          "end_time": "2022-05-14T06:38:34.753484",
          "exception": false,
          "start_time": "2022-05-14T06:38:33.642465",
          "status": "completed"
        },
        "tags": [],
        "id": "3bc807db"
      },
      "outputs": [],
      "source": [
        "submission = pd.DataFrame(submission)"
      ]
    },
    {
      "cell_type": "code",
      "execution_count": 43,
      "id": "d5baf299",
      "metadata": {
        "execution": {
          "iopub.execute_input": "2022-05-14T06:38:36.869600Z",
          "iopub.status.busy": "2022-05-14T06:38:36.869292Z",
          "iopub.status.idle": "2022-05-14T06:38:36.884602Z",
          "shell.execute_reply": "2022-05-14T06:38:36.883699Z"
        },
        "papermill": {
          "duration": 1.059129,
          "end_time": "2022-05-14T06:38:36.887206",
          "exception": false,
          "start_time": "2022-05-14T06:38:35.828077",
          "status": "completed"
        },
        "tags": [],
        "id": "d5baf299"
      },
      "outputs": [],
      "source": [
        "submission.to_csv(\"./base.csv\",index=False)"
      ]
    }
  ],
  "metadata": {
    "kernelspec": {
      "display_name": "Python 3.9.0 64-bit",
      "language": "python",
      "name": "python3"
    },
    "language_info": {
      "codemirror_mode": {
        "name": "ipython",
        "version": 3
      },
      "file_extension": ".py",
      "mimetype": "text/x-python",
      "name": "python",
      "nbconvert_exporter": "python",
      "pygments_lexer": "ipython3",
      "version": "3.9.0"
    },
    "papermill": {
      "default_parameters": {},
      "duration": 1769.849176,
      "end_time": "2022-05-14T06:38:43.642256",
      "environment_variables": {},
      "exception": null,
      "input_path": "__notebook__.ipynb",
      "output_path": "__notebook__.ipynb",
      "parameters": {},
      "start_time": "2022-05-14T06:09:13.793080",
      "version": "2.3.4"
    },
    "vscode": {
      "interpreter": {
        "hash": "88b2cf4e8d0b67568ad14b84a5c832fc32f25f2ffbc1f06c6b6ffdb5a46993f6"
      }
    },
    "colab": {
      "provenance": []
    }
  },
  "nbformat": 4,
  "nbformat_minor": 5
}