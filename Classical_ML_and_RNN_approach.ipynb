{
  "cells": [
    {
      "cell_type": "markdown",
      "source": [
        "Importing libraries"
      ],
      "metadata": {
        "id": "QcZoXfRjFkZK"
      }
    },
    {
      "cell_type": "code",
      "execution_count": 1,
      "metadata": {
        "colab": {
          "base_uri": "https://localhost:8080/"
        },
        "id": "QOCjiksLXVnb",
        "outputId": "b3e856c5-ca38-4de2-de5d-357cfc53fcb4"
      },
      "outputs": [
        {
          "output_type": "stream",
          "name": "stderr",
          "text": [
            "[nltk_data] Downloading package stopwords to /root/nltk_data...\n",
            "[nltk_data]   Unzipping corpora/stopwords.zip.\n"
          ]
        }
      ],
      "source": [
        "import pandas as pd\n",
        "import numpy as np\n",
        "import matplotlib.pyplot as plt\n",
        "import seaborn as sns\n",
        "import re\n",
        "import nltk \n",
        "nltk.download('stopwords')\n",
        "from nltk.corpus import stopwords\n",
        "from nltk.tokenize import word_tokenize \n",
        "from nltk.stem import SnowballStemmer\n",
        "from sklearn import model_selection, metrics, preprocessing, ensemble, model_selection, metrics\n",
        "from sklearn.feature_extraction.text import CountVectorizer, TfidfVectorizer\n",
        "import tensorflow as tf\n",
        "from tensorflow.keras.models import Model\n",
        "from tensorflow.keras.preprocessing.text import Tokenizer\n",
        "from tensorflow.keras.preprocessing.sequence import pad_sequences\n",
        "from tensorflow.keras.layers import Conv1D, Bidirectional, LSTM, Dense, Dropout, Input, SpatialDropout1D\n",
        "from tensorflow.keras.callbacks import ModelCheckpoint, ReduceLROnPlateau\n",
        "from tensorflow.keras.optimizers import Adam"
      ]
    },
    {
      "cell_type": "code",
      "source": [
        "from google.colab import drive\n",
        "drive.mount('/content/drive')"
      ],
      "metadata": {
        "colab": {
          "base_uri": "https://localhost:8080/"
        },
        "id": "tFeo_9EbXalk",
        "outputId": "a36c65c1-d21d-49c3-a95f-ccb5892efbfa"
      },
      "execution_count": 2,
      "outputs": [
        {
          "output_type": "stream",
          "name": "stdout",
          "text": [
            "Mounted at /content/drive\n"
          ]
        }
      ]
    },
    {
      "cell_type": "markdown",
      "metadata": {
        "id": "JGi2sQwTXVnk"
      },
      "source": [
        "## Read train data"
      ]
    },
    {
      "cell_type": "code",
      "execution_count": 3,
      "metadata": {
        "colab": {
          "base_uri": "https://localhost:8080/",
          "height": 223
        },
        "id": "9iSeEM4tXVnm",
        "outputId": "919c1405-9393-4006-bd39-6c2dbc5d95a8"
      },
      "outputs": [
        {
          "output_type": "stream",
          "name": "stdout",
          "text": [
            "Data points count:  7613\n"
          ]
        },
        {
          "output_type": "execute_result",
          "data": {
            "text/plain": [
              "   id keyword location                                               text  \\\n",
              "0   1     NaN      NaN  Our Deeds are the Reason of this #earthquake M...   \n",
              "1   4     NaN      NaN             Forest fire near La Ronge Sask. Canada   \n",
              "2   5     NaN      NaN  All residents asked to 'shelter in place' are ...   \n",
              "3   6     NaN      NaN  13,000 people receive #wildfires evacuation or...   \n",
              "4   7     NaN      NaN  Just got sent this photo from Ruby #Alaska as ...   \n",
              "\n",
              "   target  \n",
              "0       1  \n",
              "1       1  \n",
              "2       1  \n",
              "3       1  \n",
              "4       1  "
            ],
            "text/html": [
              "\n",
              "  <div id=\"df-a70e7448-e5a9-4cc8-be9c-f88521ee234e\">\n",
              "    <div class=\"colab-df-container\">\n",
              "      <div>\n",
              "<style scoped>\n",
              "    .dataframe tbody tr th:only-of-type {\n",
              "        vertical-align: middle;\n",
              "    }\n",
              "\n",
              "    .dataframe tbody tr th {\n",
              "        vertical-align: top;\n",
              "    }\n",
              "\n",
              "    .dataframe thead th {\n",
              "        text-align: right;\n",
              "    }\n",
              "</style>\n",
              "<table border=\"1\" class=\"dataframe\">\n",
              "  <thead>\n",
              "    <tr style=\"text-align: right;\">\n",
              "      <th></th>\n",
              "      <th>id</th>\n",
              "      <th>keyword</th>\n",
              "      <th>location</th>\n",
              "      <th>text</th>\n",
              "      <th>target</th>\n",
              "    </tr>\n",
              "  </thead>\n",
              "  <tbody>\n",
              "    <tr>\n",
              "      <th>0</th>\n",
              "      <td>1</td>\n",
              "      <td>NaN</td>\n",
              "      <td>NaN</td>\n",
              "      <td>Our Deeds are the Reason of this #earthquake M...</td>\n",
              "      <td>1</td>\n",
              "    </tr>\n",
              "    <tr>\n",
              "      <th>1</th>\n",
              "      <td>4</td>\n",
              "      <td>NaN</td>\n",
              "      <td>NaN</td>\n",
              "      <td>Forest fire near La Ronge Sask. Canada</td>\n",
              "      <td>1</td>\n",
              "    </tr>\n",
              "    <tr>\n",
              "      <th>2</th>\n",
              "      <td>5</td>\n",
              "      <td>NaN</td>\n",
              "      <td>NaN</td>\n",
              "      <td>All residents asked to 'shelter in place' are ...</td>\n",
              "      <td>1</td>\n",
              "    </tr>\n",
              "    <tr>\n",
              "      <th>3</th>\n",
              "      <td>6</td>\n",
              "      <td>NaN</td>\n",
              "      <td>NaN</td>\n",
              "      <td>13,000 people receive #wildfires evacuation or...</td>\n",
              "      <td>1</td>\n",
              "    </tr>\n",
              "    <tr>\n",
              "      <th>4</th>\n",
              "      <td>7</td>\n",
              "      <td>NaN</td>\n",
              "      <td>NaN</td>\n",
              "      <td>Just got sent this photo from Ruby #Alaska as ...</td>\n",
              "      <td>1</td>\n",
              "    </tr>\n",
              "  </tbody>\n",
              "</table>\n",
              "</div>\n",
              "      <button class=\"colab-df-convert\" onclick=\"convertToInteractive('df-a70e7448-e5a9-4cc8-be9c-f88521ee234e')\"\n",
              "              title=\"Convert this dataframe to an interactive table.\"\n",
              "              style=\"display:none;\">\n",
              "        \n",
              "  <svg xmlns=\"http://www.w3.org/2000/svg\" height=\"24px\"viewBox=\"0 0 24 24\"\n",
              "       width=\"24px\">\n",
              "    <path d=\"M0 0h24v24H0V0z\" fill=\"none\"/>\n",
              "    <path d=\"M18.56 5.44l.94 2.06.94-2.06 2.06-.94-2.06-.94-.94-2.06-.94 2.06-2.06.94zm-11 1L8.5 8.5l.94-2.06 2.06-.94-2.06-.94L8.5 2.5l-.94 2.06-2.06.94zm10 10l.94 2.06.94-2.06 2.06-.94-2.06-.94-.94-2.06-.94 2.06-2.06.94z\"/><path d=\"M17.41 7.96l-1.37-1.37c-.4-.4-.92-.59-1.43-.59-.52 0-1.04.2-1.43.59L10.3 9.45l-7.72 7.72c-.78.78-.78 2.05 0 2.83L4 21.41c.39.39.9.59 1.41.59.51 0 1.02-.2 1.41-.59l7.78-7.78 2.81-2.81c.8-.78.8-2.07 0-2.86zM5.41 20L4 18.59l7.72-7.72 1.47 1.35L5.41 20z\"/>\n",
              "  </svg>\n",
              "      </button>\n",
              "      \n",
              "  <style>\n",
              "    .colab-df-container {\n",
              "      display:flex;\n",
              "      flex-wrap:wrap;\n",
              "      gap: 12px;\n",
              "    }\n",
              "\n",
              "    .colab-df-convert {\n",
              "      background-color: #E8F0FE;\n",
              "      border: none;\n",
              "      border-radius: 50%;\n",
              "      cursor: pointer;\n",
              "      display: none;\n",
              "      fill: #1967D2;\n",
              "      height: 32px;\n",
              "      padding: 0 0 0 0;\n",
              "      width: 32px;\n",
              "    }\n",
              "\n",
              "    .colab-df-convert:hover {\n",
              "      background-color: #E2EBFA;\n",
              "      box-shadow: 0px 1px 2px rgba(60, 64, 67, 0.3), 0px 1px 3px 1px rgba(60, 64, 67, 0.15);\n",
              "      fill: #174EA6;\n",
              "    }\n",
              "\n",
              "    [theme=dark] .colab-df-convert {\n",
              "      background-color: #3B4455;\n",
              "      fill: #D2E3FC;\n",
              "    }\n",
              "\n",
              "    [theme=dark] .colab-df-convert:hover {\n",
              "      background-color: #434B5C;\n",
              "      box-shadow: 0px 1px 3px 1px rgba(0, 0, 0, 0.15);\n",
              "      filter: drop-shadow(0px 1px 2px rgba(0, 0, 0, 0.3));\n",
              "      fill: #FFFFFF;\n",
              "    }\n",
              "  </style>\n",
              "\n",
              "      <script>\n",
              "        const buttonEl =\n",
              "          document.querySelector('#df-a70e7448-e5a9-4cc8-be9c-f88521ee234e button.colab-df-convert');\n",
              "        buttonEl.style.display =\n",
              "          google.colab.kernel.accessAllowed ? 'block' : 'none';\n",
              "\n",
              "        async function convertToInteractive(key) {\n",
              "          const element = document.querySelector('#df-a70e7448-e5a9-4cc8-be9c-f88521ee234e');\n",
              "          const dataTable =\n",
              "            await google.colab.kernel.invokeFunction('convertToInteractive',\n",
              "                                                     [key], {});\n",
              "          if (!dataTable) return;\n",
              "\n",
              "          const docLinkHtml = 'Like what you see? Visit the ' +\n",
              "            '<a target=\"_blank\" href=https://colab.research.google.com/notebooks/data_table.ipynb>data table notebook</a>'\n",
              "            + ' to learn more about interactive tables.';\n",
              "          element.innerHTML = '';\n",
              "          dataTable['output_type'] = 'display_data';\n",
              "          await google.colab.output.renderOutput(dataTable, element);\n",
              "          const docLink = document.createElement('div');\n",
              "          docLink.innerHTML = docLinkHtml;\n",
              "          element.appendChild(docLink);\n",
              "        }\n",
              "      </script>\n",
              "    </div>\n",
              "  </div>\n",
              "  "
            ]
          },
          "metadata": {},
          "execution_count": 3
        }
      ],
      "source": [
        "raw_data = pd.read_csv('/content/drive/MyDrive/train.csv')\n",
        "print(\"Data points count: \", raw_data['id'].count())\n",
        "raw_data.head()"
      ]
    },
    {
      "cell_type": "code",
      "execution_count": 4,
      "metadata": {
        "colab": {
          "base_uri": "https://localhost:8080/",
          "height": 537
        },
        "id": "2cEq2e73XVno",
        "outputId": "67f2de84-002f-49eb-cca2-5548412a8887"
      },
      "outputs": [
        {
          "output_type": "display_data",
          "data": {
            "text/plain": [
              "<Figure size 720x576 with 1 Axes>"
            ],
            "image/png": "[encoded data removed]"
          },
          "metadata": {
            "needs_background": "light"
          }
        }
      ],
      "source": [
        "plt.figure(figsize=(10,8))\n",
        "ax = raw_data['target'].value_counts().sort_values().plot(kind=\"bar\")\n",
        "ax.grid(axis=\"y\")\n",
        "plt.suptitle(\"Target Value Counts\", fontsize=20)\n",
        "plt.show()"
      ]
    },
    {
      "cell_type": "markdown",
      "metadata": {
        "id": "FmyxCQrkXVnp"
      },
      "source": [
        "## Missing Data"
      ]
    },
    {
      "cell_type": "code",
      "execution_count": 5,
      "metadata": {
        "colab": {
          "base_uri": "https://localhost:8080/"
        },
        "id": "eLb-37wlXVnq",
        "outputId": "343c066d-369e-4201-adab-fb12cd1bcd4d"
      },
      "outputs": [
        {
          "output_type": "stream",
          "name": "stdout",
          "text": [
            "Number of missing data for column keyword:  61\n",
            "Number of missing data for column location:  2533\n",
            "Number of missing data for column text:  0\n",
            "Number of missing data for column target:  0\n"
          ]
        }
      ],
      "source": [
        "print(\"Number of missing data for column keyword: \", raw_data['keyword'].isna().sum())\n",
        "print(\"Number of missing data for column location: \", raw_data['location'].isna().sum())\n",
        "print(\"Number of missing data for column text: \", raw_data['text'].isna().sum())\n",
        "print(\"Number of missing data for column target: \", raw_data['target'].isna().sum())"
      ]
    },
    {
      "cell_type": "code",
      "execution_count": 6,
      "metadata": {
        "colab": {
          "base_uri": "https://localhost:8080/",
          "height": 485
        },
        "id": "vqSH9pp6XVnr",
        "outputId": "5242e135-55e6-41ee-9887-3c84cc9c2fbb"
      },
      "outputs": [
        {
          "output_type": "display_data",
          "data": {
            "text/plain": [
              "<Figure size 1080x576 with 1 Axes>"
            ],
            "image/png": "[encoded data removed]"
          },
          "metadata": {
            "needs_background": "light"
          }
        }
      ],
      "source": [
        "plt.figure(figsize=(15,8))\n",
        "sns.heatmap(raw_data.drop('id', axis=1).isnull(), cbar=False, cmap=\"GnBu\").set_title(\"Missing data for each column\")\n",
        "plt.show()"
      ]
    },
    {
      "cell_type": "markdown",
      "metadata": {
        "id": "sIbEo_UrXVns"
      },
      "source": [
        "## Cleaning Data"
      ]
    },
    {
      "cell_type": "code",
      "execution_count": 7,
      "metadata": {
        "scrolled": false,
        "colab": {
          "base_uri": "https://localhost:8080/",
          "height": 573
        },
        "id": "cmHR5P1_XVnt",
        "outputId": "f96f0197-d958-41b6-ad0a-d3f11985d074"
      },
      "outputs": [
        {
          "output_type": "stream",
          "name": "stderr",
          "text": [
            "/usr/local/lib/python3.7/dist-packages/seaborn/distributions.py:2619: FutureWarning: `distplot` is a deprecated function and will be removed in a future version. Please adapt your code to use either `displot` (a figure-level function with similar flexibility) or `histplot` (an axes-level function for histograms).\n",
            "  warnings.warn(msg, FutureWarning)\n"
          ]
        },
        {
          "output_type": "display_data",
          "data": {
            "text/plain": [
              "<Figure size 1080x576 with 1 Axes>"
            ],
            "image/png": "[encoded data removed]"
          },
          "metadata": {
            "needs_background": "light"
          }
        }
      ],
      "source": [
        "plt.figure(figsize=(15,8))\n",
        "raw_data['word_count'] = raw_data['text'].apply(lambda x: len(x.split(\" \")) )\n",
        "sns.distplot(raw_data['word_count'].values, hist=True, kde=True, kde_kws={\"shade\": True})\n",
        "plt.axvline(raw_data['word_count'].describe()['25%'], ls=\"--\")\n",
        "plt.axvline(raw_data['word_count'].describe()['50%'], ls=\"--\")\n",
        "plt.axvline(raw_data['word_count'].describe()['75%'], ls=\"--\")\n",
        "plt.grid()\n",
        "plt.suptitle(\"Word count histogram\")\n",
        "plt.show()\n",
        "raw_data = raw_data[raw_data['word_count']>2]\n",
        "raw_data = raw_data.reset_index()"
      ]
    },
    {
      "cell_type": "code",
      "execution_count": 8,
      "metadata": {
        "colab": {
          "base_uri": "https://localhost:8080/"
        },
        "id": "2Sb7mL-uXVnv",
        "outputId": "55605105-f877-478c-e3b3-b34ba06576ff"
      },
      "outputs": [
        {
          "output_type": "stream",
          "name": "stdout",
          "text": [
            "25th percentile:  11.0\n",
            "mean:  15.0\n",
            "75th percentile:  19.0\n"
          ]
        }
      ],
      "source": [
        "print(\"25th percentile: \", raw_data['word_count'].describe()['25%'])\n",
        "print(\"mean: \", raw_data['word_count'].describe()['50%'])\n",
        "print(\"75th percentile: \", raw_data['word_count'].describe()['75%'])"
      ]
    },
    {
      "cell_type": "code",
      "source": [
        "import nltk\n",
        "nltk.download('punkt')"
      ],
      "metadata": {
        "colab": {
          "base_uri": "https://localhost:8080/"
        },
        "id": "uJnGeutYX-NN",
        "outputId": "eff86095-2764-4e92-86db-047cbc71e07e"
      },
      "execution_count": 9,
      "outputs": [
        {
          "output_type": "stream",
          "name": "stderr",
          "text": [
            "[nltk_data] Downloading package punkt to /root/nltk_data...\n",
            "[nltk_data]   Unzipping tokenizers/punkt.zip.\n"
          ]
        },
        {
          "output_type": "execute_result",
          "data": {
            "text/plain": [
              "True"
            ]
          },
          "metadata": {},
          "execution_count": 9
        }
      ]
    },
    {
      "cell_type": "code",
      "source": [
        "from nltk.corpus import stopwords"
      ],
      "metadata": {
        "id": "fey6uup-Ytmg"
      },
      "execution_count": 10,
      "outputs": []
    },
    {
      "cell_type": "code",
      "source": [
        "nltk.download('stop_words')"
      ],
      "metadata": {
        "colab": {
          "base_uri": "https://localhost:8080/"
        },
        "id": "kcuFzyCiY0D5",
        "outputId": "6180b659-1960-409f-f2e8-236ced2d5c0b"
      },
      "execution_count": 11,
      "outputs": [
        {
          "output_type": "stream",
          "name": "stderr",
          "text": [
            "[nltk_data] Error loading stop_words: Package 'stop_words' not found\n",
            "[nltk_data]     in index\n"
          ]
        },
        {
          "output_type": "execute_result",
          "data": {
            "text/plain": [
              "False"
            ]
          },
          "metadata": {},
          "execution_count": 11
        }
      ]
    },
    {
      "cell_type": "code",
      "execution_count": 16,
      "metadata": {
        "id": "42lLOpY8XVnv"
      },
      "outputs": [],
      "source": [
        "top_words = set(stopwords.words('english'))\n",
        "stemmer = SnowballStemmer('english')\n",
        "def clean_text(each_text):\n",
        "    each_text_no_url = re.sub(r\"http\\S+\", \"\", each_text)\n",
        "    text_no_num = re.sub(r'\\d+', '', each_text_no_url)\n",
        "    word_tokens = word_tokenize(text_no_num)\n",
        "    clean_text = []\n",
        "    from nltk.corpus import stopwords\n",
        "    stoplist = set(stopwords.words(\"english\"))\n",
        "    for word in word_tokens:\n",
        "        clean_text.append(\"\".join([e for e in word if e.isalnum()]))\n",
        "    text_with_no_stop_word = [w.lower() for w in clean_text if not w in stoplist]  \n",
        "    stemmed_text = [stemmer.stem(w) for w in text_with_no_stop_word]\n",
        "    return \" \".join(\" \".join(stemmed_text).split())\n",
        "raw_data['clean_text'] = raw_data['text'].apply(lambda x: clean_text(x))\n",
        "raw_data['keyword'] = raw_data['keyword'].fillna(\"none\")\n",
        "raw_data['clean_keyword'] = raw_data['keyword'].apply(lambda x: clean_text(x))"
      ]
    },
    {
      "cell_type": "code",
      "execution_count": 17,
      "metadata": {
        "id": "1kDN-Kc_XVnw"
      },
      "outputs": [],
      "source": [
        "raw_data['keyword_text'] = raw_data['clean_keyword']+\" \"+ raw_data[\"clean_text\"]"
      ]
    },
    {
      "cell_type": "markdown",
      "metadata": {
        "id": "LyvWiMk8XVnx"
      },
      "source": [
        "## Prepare train and test data"
      ]
    },
    {
      "cell_type": "code",
      "execution_count": 18,
      "metadata": {
        "id": "83ek24g4XVnx"
      },
      "outputs": [],
      "source": [
        "feature = 'keyword_text'\n",
        "label = \"target\"\n",
        "X_train, X_test,y_train, y_test = model_selection.train_test_split(raw_data[feature],\n",
        "                                                                   raw_data[label],\n",
        "                                                                   test_size=0.3,\n",
        "                                                                   random_state=0, \n",
        "                                                                   shuffle=True)"
      ]
    },
    {
      "cell_type": "markdown",
      "metadata": {
        "id": "aXA8sFJQXVnx"
      },
      "source": [
        "# Gradient Boosting Classifier"
      ]
    },
    {
      "cell_type": "code",
      "execution_count": 19,
      "metadata": {
        "id": "D7u3XY6EXVny"
      },
      "outputs": [],
      "source": [
        "X_train_GBC = X_train.values.reshape(-1)\n",
        "x_test_GBC = X_test.values.reshape(-1)"
      ]
    },
    {
      "cell_type": "code",
      "execution_count": 20,
      "metadata": {
        "id": "wdc1oNxHXVny"
      },
      "outputs": [],
      "source": [
        "vectorizer = CountVectorizer()\n",
        "X_train_GBC = vectorizer.fit_transform(X_train_GBC)\n",
        "x_test_GBC = vectorizer.transform(x_test_GBC)"
      ]
    },
    {
      "cell_type": "code",
      "execution_count": 21,
      "metadata": {
        "colab": {
          "base_uri": "https://localhost:8080/"
        },
        "id": "3hztfNb-XVny",
        "outputId": "2c960f1a-8797-4fe7-cb7a-17d7f415560f"
      },
      "outputs": [
        {
          "output_type": "execute_result",
          "data": {
            "text/plain": [
              "GradientBoostingClassifier(max_depth=9, max_features=8, min_samples_leaf=2,\n",
              "                           min_samples_split=6, n_estimators=2000,\n",
              "                           subsample=0.9)"
            ]
          },
          "metadata": {},
          "execution_count": 21
        }
      ],
      "source": [
        "model = ensemble.GradientBoostingClassifier(learning_rate=0.1,                                            \n",
        "                                            n_estimators=2000,\n",
        "                                            max_depth=9,\n",
        "                                            min_samples_split=6,\n",
        "                                            min_samples_leaf=2,\n",
        "                                            max_features=8,\n",
        "                                            subsample=0.9)\n",
        "model.fit(X_train_GBC, y_train)"
      ]
    },
    {
      "cell_type": "code",
      "execution_count": 22,
      "metadata": {
        "scrolled": true,
        "colab": {
          "base_uri": "https://localhost:8080/"
        },
        "id": "wgu99RSEXVnz",
        "outputId": "3bc54ea6-cd61-4487-db4c-482d373dd11a"
      },
      "outputs": [
        {
          "output_type": "stream",
          "name": "stdout",
          "text": [
            "Test accuracy:  0.7973568281938326\n",
            "              precision    recall  f1-score   support\n",
            "\n",
            "           0       0.79      0.88      0.83      1309\n",
            "           1       0.81      0.69      0.74       961\n",
            "\n",
            "    accuracy                           0.80      2270\n",
            "   macro avg       0.80      0.78      0.79      2270\n",
            "weighted avg       0.80      0.80      0.79      2270\n",
            "\n",
            "Test F-scoare:  0.7412823397075365\n"
          ]
        }
      ],
      "source": [
        "predicted_prob = model.predict_proba(x_test_GBC)[:,1]\n",
        "predicted = model.predict(x_test_GBC)\n",
        "accuracy = metrics.accuracy_score(predicted, y_test)\n",
        "print(\"Test accuracy: \", accuracy)\n",
        "print(metrics.classification_report(y_test, predicted, target_names=[\"0\", \"1\"]))\n",
        "print(\"Test F-scoare: \", metrics.f1_score(y_test, predicted))"
      ]
    },
    {
      "cell_type": "code",
      "execution_count": 23,
      "metadata": {
        "colab": {
          "base_uri": "https://localhost:8080/",
          "height": 295
        },
        "id": "E-XflRneXVnz",
        "outputId": "2c95571d-c91a-4926-fa1a-7d395ab636f2"
      },
      "outputs": [
        {
          "output_type": "display_data",
          "data": {
            "text/plain": [
              "<Figure size 432x288 with 1 Axes>"
            ],
            "image/png": "[encoded data removed]"
          },
          "metadata": {
            "needs_background": "light"
          }
        }
      ],
      "source": [
        "conf_matrix = metrics.confusion_matrix(y_test, predicted)\n",
        "fig, ax = plt.subplots()\n",
        "sns.heatmap(conf_matrix, cbar=False, cmap='Reds', annot=True, fmt='d')\n",
        "ax.set(xlabel=\"Predicted Value\", ylabel=\"True Value\", title=\"Confusion Matrix\")\n",
        "ax.set_yticklabels(labels=['0', '1'], rotation=0)\n",
        "plt.show()"
      ]
    },
    {
      "cell_type": "markdown",
      "metadata": {
        "id": "_Pm_GwT2XVn0"
      },
      "source": [
        "# LSTM"
      ]
    },
    {
      "cell_type": "code",
      "execution_count": 24,
      "metadata": {
        "id": "xzUK811NXVn0"
      },
      "outputs": [],
      "source": [
        "path_to_glove_file = '/content/drive/MyDrive/glove.6B.300d.txt' \n",
        "embedding_dim = 300\n",
        "learning_rate = 1e-3\n",
        "batch_size = 1024\n",
        "epochs = 20\n",
        "sequence_len = 100"
      ]
    },
    {
      "cell_type": "code",
      "execution_count": 25,
      "metadata": {
        "scrolled": true,
        "colab": {
          "base_uri": "https://localhost:8080/"
        },
        "id": "UNxtSjDgXVn0",
        "outputId": "3ed8eca0-acbb-4854-a294-08aa4ae29f52"
      },
      "outputs": [
        {
          "output_type": "stream",
          "name": "stdout",
          "text": [
            "Training Y shape: (5294, 1)\n",
            "Testing Y shape: (2270, 1)\n"
          ]
        }
      ],
      "source": [
        "y_train_LSTM = y_train.values.reshape(-1,1)\n",
        "y_test_LSTM = y_test.values.reshape(-1,1)\n",
        "print(\"Training Y shape:\", y_train_LSTM.shape)\n",
        "print(\"Testing Y shape:\", y_test_LSTM.shape)"
      ]
    },
    {
      "cell_type": "code",
      "execution_count": 26,
      "metadata": {
        "colab": {
          "base_uri": "https://localhost:8080/"
        },
        "id": "MRcq-8DyXVn2",
        "outputId": "04912a6f-9ec0-4877-c118-f3ba860a0f58"
      },
      "outputs": [
        {
          "output_type": "stream",
          "name": "stdout",
          "text": [
            "Vocabulary Size:  11148\n"
          ]
        }
      ],
      "source": [
        "tokenizer = Tokenizer()\n",
        "tokenizer.fit_on_texts(X_train)\n",
        "word_index = tokenizer.word_index\n",
        "vocab_size = len(word_index) + 1\n",
        "print(\"Vocabulary Size: \", vocab_size)\n"
      ]
    },
    {
      "cell_type": "code",
      "execution_count": 27,
      "metadata": {
        "colab": {
          "base_uri": "https://localhost:8080/"
        },
        "id": "T_EcdmgKXVn2",
        "outputId": "061368fe-d4a9-4aca-f4d4-17cc2c7b21ad"
      },
      "outputs": [
        {
          "output_type": "stream",
          "name": "stdout",
          "text": [
            "Training X shape:  (5294, 100)\n",
            "Testing X shape:  (2270, 100)\n"
          ]
        }
      ],
      "source": [
        "X_train = pad_sequences(tokenizer.texts_to_sequences(X_train), maxlen=sequence_len)\n",
        "X_test = pad_sequences(tokenizer.texts_to_sequences(X_test), maxlen=sequence_len)\n",
        "print(\"Training X shape: \", X_train.shape)\n",
        "print(\"Testing X shape: \", X_test.shape)"
      ]
    },
    {
      "cell_type": "code",
      "execution_count": 28,
      "metadata": {
        "colab": {
          "base_uri": "https://localhost:8080/"
        },
        "id": "cIoUkLMJXVn3",
        "outputId": "e9135692-72d9-400a-bf1e-bf1f8b8c5366"
      },
      "outputs": [
        {
          "output_type": "stream",
          "name": "stdout",
          "text": [
            "Found 400000 word vectors.\n"
          ]
        }
      ],
      "source": [
        "embeddings_index = {}\n",
        "with open(path_to_glove_file) as f:\n",
        "    for line in f:\n",
        "        word, coefs = line.split(maxsplit=1)\n",
        "        coefs = np.fromstring(coefs, \"f\", sep=\" \")\n",
        "        embeddings_index[word] = coefs\n",
        "print(\"Found %s word vectors.\" % len(embeddings_index))"
      ]
    },
    {
      "cell_type": "code",
      "execution_count": 29,
      "metadata": {
        "id": "jElM2pCKXVn3"
      },
      "outputs": [],
      "source": [
        "embedding_matrix = np.zeros((vocab_size, embedding_dim))\n",
        "for word, i in word_index.items():\n",
        "    embedding_vector = embeddings_index.get(word)\n",
        "    if embedding_vector is not None:\n",
        "        embedding_matrix[i] = embedding_vector\n",
        "embedding_layer = tf.keras.layers.Embedding(vocab_size,\n",
        "                                            embedding_dim,\n",
        "                                            weights=[embedding_matrix],\n",
        "                                            input_length=sequence_len,\n",
        "                                            trainable=False)"
      ]
    },
    {
      "cell_type": "code",
      "execution_count": 30,
      "metadata": {
        "colab": {
          "base_uri": "https://localhost:8080/"
        },
        "id": "dsvtlScaXVn4",
        "outputId": "97ddcaec-34f7-430e-a9cd-8883da4a6443"
      },
      "outputs": [
        {
          "output_type": "stream",
          "name": "stdout",
          "text": [
            "Model: \"model\"\n",
            "_________________________________________________________________\n",
            " Layer (type)                Output Shape              Param #   \n",
            "=================================================================\n",
            " input_1 (InputLayer)        [(None, 100)]             0         \n",
            "                                                                 \n",
            " embedding (Embedding)       (None, 100, 300)          3344400   \n",
            "                                                                 \n",
            " conv1d (Conv1D)             (None, 96, 128)           192128    \n",
            "                                                                 \n",
            " bidirectional (Bidirectiona  (None, 256)              263168    \n",
            " l)                                                              \n",
            "                                                                 \n",
            " dense (Dense)               (None, 512)               131584    \n",
            "                                                                 \n",
            " dropout (Dropout)           (None, 512)               0         \n",
            "                                                                 \n",
            " dense_1 (Dense)             (None, 512)               262656    \n",
            "                                                                 \n",
            " dense_2 (Dense)             (None, 1)                 513       \n",
            "                                                                 \n",
            "=================================================================\n",
            "Total params: 4,194,449\n",
            "Trainable params: 850,049\n",
            "Non-trainable params: 3,344,400\n",
            "_________________________________________________________________\n"
          ]
        }
      ],
      "source": [
        "sequence_input = Input(shape=(sequence_len, ), dtype='int32')\n",
        "embedding_sequences = embedding_layer(sequence_input)\n",
        "x = Conv1D(128, 5, activation='relu')(embedding_sequences)\n",
        "x = Bidirectional(LSTM(128, dropout=0.5, recurrent_dropout=0.2))(x)\n",
        "x = Dense(512, activation='relu')(x)\n",
        "x = Dropout(0.5)(x)\n",
        "x = Dense(512, activation='relu')(x)\n",
        "outputs = Dense(1, activation='sigmoid')(x)\n",
        "model = Model(sequence_input, outputs)\n",
        "model.summary()"
      ]
    },
    {
      "cell_type": "code",
      "execution_count": 31,
      "metadata": {
        "id": "aumk2QhVXVn4"
      },
      "outputs": [],
      "source": [
        "model.compile(optimizer=Adam(learning_rate=learning_rate), loss='binary_crossentropy', metrics=['accuracy'])\n"
      ]
    },
    {
      "cell_type": "code",
      "execution_count": 32,
      "metadata": {
        "colab": {
          "base_uri": "https://localhost:8080/"
        },
        "id": "vB67az16XVn5",
        "outputId": "96bd3194-f31b-4c6e-bb7e-72b269b52e17"
      },
      "outputs": [
        {
          "output_type": "stream",
          "name": "stdout",
          "text": [
            "Epoch 1/20\n",
            "6/6 [==============================] - 67s 9s/step - loss: 0.6628 - accuracy: 0.5865 - val_loss: 0.5642 - val_accuracy: 0.7304\n",
            "Epoch 2/20\n",
            "6/6 [==============================] - 52s 8s/step - loss: 0.5534 - accuracy: 0.7459 - val_loss: 0.5152 - val_accuracy: 0.7608\n",
            "Epoch 3/20\n",
            "6/6 [==============================] - 52s 8s/step - loss: 0.4975 - accuracy: 0.7733 - val_loss: 0.5032 - val_accuracy: 0.7586\n",
            "Epoch 4/20\n",
            "6/6 [==============================] - 53s 9s/step - loss: 0.4711 - accuracy: 0.7873 - val_loss: 0.5166 - val_accuracy: 0.7678\n",
            "Epoch 5/20\n",
            "6/6 [==============================] - 51s 8s/step - loss: 0.4525 - accuracy: 0.7956 - val_loss: 0.4896 - val_accuracy: 0.7727\n",
            "Epoch 6/20\n",
            "6/6 [==============================] - 52s 9s/step - loss: 0.4220 - accuracy: 0.8128 - val_loss: 0.4769 - val_accuracy: 0.7877\n",
            "Epoch 7/20\n",
            "6/6 [==============================] - 51s 8s/step - loss: 0.4016 - accuracy: 0.8241 - val_loss: 0.5025 - val_accuracy: 0.7855\n",
            "Epoch 8/20\n",
            "6/6 [==============================] - 50s 8s/step - loss: 0.3809 - accuracy: 0.8372 - val_loss: 0.4802 - val_accuracy: 0.7872\n",
            "Epoch 9/20\n",
            "6/6 [==============================] - 53s 9s/step - loss: 0.3452 - accuracy: 0.8542 - val_loss: 0.4998 - val_accuracy: 0.7912\n",
            "Epoch 10/20\n",
            "6/6 [==============================] - 51s 8s/step - loss: 0.3230 - accuracy: 0.8674 - val_loss: 0.5097 - val_accuracy: 0.7934\n",
            "Epoch 11/20\n",
            "6/6 [==============================] - 54s 9s/step - loss: 0.2861 - accuracy: 0.8853 - val_loss: 0.5407 - val_accuracy: 0.7907\n",
            "Epoch 12/20\n",
            "6/6 [==============================] - 51s 8s/step - loss: 0.2606 - accuracy: 0.8993 - val_loss: 0.6321 - val_accuracy: 0.7670\n",
            "Epoch 13/20\n",
            "6/6 [==============================] - 50s 8s/step - loss: 0.2457 - accuracy: 0.9008 - val_loss: 0.5752 - val_accuracy: 0.7925\n",
            "Epoch 14/20\n",
            "6/6 [==============================] - 53s 9s/step - loss: 0.2251 - accuracy: 0.9133 - val_loss: 0.5871 - val_accuracy: 0.7934\n",
            "Epoch 15/20\n",
            "6/6 [==============================] - 50s 8s/step - loss: 0.1808 - accuracy: 0.9329 - val_loss: 0.6637 - val_accuracy: 0.7833\n",
            "Epoch 16/20\n",
            "6/6 [==============================] - 50s 8s/step - loss: 0.1912 - accuracy: 0.9248 - val_loss: 0.6971 - val_accuracy: 0.7775\n",
            "Epoch 17/20\n",
            "6/6 [==============================] - 52s 8s/step - loss: 0.1632 - accuracy: 0.9386 - val_loss: 0.7116 - val_accuracy: 0.7859\n",
            "Epoch 18/20\n",
            "6/6 [==============================] - 50s 8s/step - loss: 0.1530 - accuracy: 0.9439 - val_loss: 0.7178 - val_accuracy: 0.7885\n",
            "Epoch 19/20\n",
            "6/6 [==============================] - 52s 9s/step - loss: 0.1386 - accuracy: 0.9490 - val_loss: 0.7952 - val_accuracy: 0.7731\n",
            "Epoch 20/20\n",
            "6/6 [==============================] - 49s 8s/step - loss: 0.1455 - accuracy: 0.9479 - val_loss: 0.7326 - val_accuracy: 0.7846\n"
          ]
        }
      ],
      "source": [
        "history = model.fit(X_train,\n",
        "                    y_train,\n",
        "                    batch_size=batch_size,\n",
        "                    epochs=epochs, \n",
        "                    validation_data=(X_test, y_test))\n"
      ]
    },
    {
      "cell_type": "code",
      "execution_count": 39,
      "metadata": {
        "colab": {
          "base_uri": "https://localhost:8080/",
          "height": 311
        },
        "id": "H6nuiymxXVn5",
        "outputId": "1301d016-e2d3-4a82-ca09-9eec3f986f33"
      },
      "outputs": [
        {
          "output_type": "stream",
          "name": "stdout",
          "text": [
            "dict_keys(['loss', 'accuracy', 'val_loss', 'val_accuracy'])\n"
          ]
        },
        {
          "output_type": "display_data",
          "data": {
            "text/plain": [
              "<Figure size 720x288 with 1 Axes>"
            ],
            "image/png": "[encoded data removed]"
          },
          "metadata": {
            "needs_background": "light"
          }
        }
      ],
      "source": [
        "history_dict = history.history\n",
        "print(history_dict.keys())\n",
        "accuraties = history_dict['accuracy']\n",
        "losses = history_dict['loss']\n",
        "accuraties_losses = list(zip(accuraties,losses))\n",
        "accuraties_losses_df = pd.DataFrame(accuraties_losses, columns={\"accuraties\", \"losses\"})\n",
        "plt.figure(figsize=(10,4))\n",
        "plt.suptitle(\"Train Accuracy vs Train Loss\")\n",
        "sns.lineplot(data=accuraties_losses_df)\n",
        "plt.show()"
      ]
    },
    {
      "cell_type": "code",
      "execution_count": 40,
      "metadata": {
        "colab": {
          "base_uri": "https://localhost:8080/"
        },
        "id": "0G6Dg384XVn5",
        "outputId": "d2454f71-9ef0-4406-94e8-6be6e68fb235"
      },
      "outputs": [
        {
          "output_type": "stream",
          "name": "stdout",
          "text": [
            "1/1 [==============================] - 6s 6s/step\n",
            "1/1 [==============================] - 4s 4s/step - loss: 0.7326 - accuracy: 0.7846\n",
            "Test Accuracy:  0.7845814824104309\n",
            "              precision    recall  f1-score   support\n",
            "\n",
            "           0       0.78      0.88      0.83      1309\n",
            "           1       0.80      0.65      0.72       961\n",
            "\n",
            "    accuracy                           0.78      2270\n",
            "   macro avg       0.79      0.77      0.77      2270\n",
            "weighted avg       0.79      0.78      0.78      2270\n",
            "\n"
          ]
        }
      ],
      "source": [
        "predicted = model.predict(X_test, verbose=1, batch_size=10000)\n",
        "y_predicted = [1 if each > 0.5 else 0 for each in predicted]\n",
        "score, test_accuracy = model.evaluate(X_test, y_test, batch_size=10000)\n",
        "print(\"Test Accuracy: \", test_accuracy)\n",
        "print(metrics.classification_report(list(y_test), y_predicted))"
      ]
    },
    {
      "cell_type": "code",
      "execution_count": 41,
      "metadata": {
        "colab": {
          "base_uri": "https://localhost:8080/",
          "height": 295
        },
        "id": "CaPrLOefXVn5",
        "outputId": "bfeb4315-c323-4b89-d2e8-c22c3c84f73e"
      },
      "outputs": [
        {
          "output_type": "display_data",
          "data": {
            "text/plain": [
              "<Figure size 432x288 with 1 Axes>"
            ],
            "image/png": "[encoded data removed]"
          },
          "metadata": {
            "needs_background": "light"
          }
        }
      ],
      "source": [
        "conf_matrix = metrics.confusion_matrix(y_test, y_predicted)\n",
        "fig, ax = plt.subplots()\n",
        "sns.heatmap(conf_matrix, cbar=False, cmap='Reds', annot=True, fmt='d')\n",
        "ax.set(xlabel=\"Predicted Value\", ylabel=\"True Value\", title=\"Confusion Matrix\")\n",
        "ax.set_yticklabels(labels=['0', '1'], rotation=0)\n",
        "plt.show()"
      ]
    }
  ],
  "metadata": {
    "kernelspec": {
      "display_name": "Python 3.9.0 64-bit",
      "language": "python",
      "name": "python3"
    },
    "language_info": {
      "codemirror_mode": {
        "name": "ipython",
        "version": 3
      },
      "file_extension": ".py",
      "mimetype": "text/x-python",
      "name": "python",
      "nbconvert_exporter": "python",
      "pygments_lexer": "ipython3",
      "version": "3.9.0"
    },
    "vscode": {
      "interpreter": {
        "hash": "88b2cf4e8d0b67568ad14b84a5c832fc32f25f2ffbc1f06c6b6ffdb5a46993f6"
      }
    },
    "colab": {
      "name": "Classical ML and RNN approach.ipynb",
      "provenance": [],
      "collapsed_sections": []
    }
  },
  "nbformat": 4,
  "nbformat_minor": 0
}